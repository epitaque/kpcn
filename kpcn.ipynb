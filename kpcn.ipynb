{
 "metadata": {
  "language_info": {
   "codemirror_mode": {
    "name": "ipython",
    "version": 3
   },
   "file_extension": ".py",
   "mimetype": "text/x-python",
   "name": "python",
   "nbconvert_exporter": "python",
   "pygments_lexer": "ipython3",
   "version": "3.8.8-final"
  },
  "orig_nbformat": 2,
  "kernelspec": {
   "name": "python388jvsc74a57bd05a9bf6c2315224b3b5934bc5e2f4700a7f472676904979a496b583b6d22b6a00",
   "display_name": "Python 3.8.8 64-bit"
  },
  "metadata": {
   "interpreter": {
    "hash": "b84e518aba231f393e9936d1511cdf75e721f3ed64b5041a4277cd671c20c953"
   }
  }
 },
 "nbformat": 4,
 "nbformat_minor": 2,
 "cells": [
  {
   "source": [
    "pip install tensorflow  \n"
   ],
   "cell_type": "markdown",
   "metadata": {}
  },
  {
   "cell_type": "code",
   "execution_count": 5,
   "metadata": {},
   "outputs": [
    {
     "output_type": "execute_result",
     "data": {
      "text/plain": [
       "[PhysicalDevice(name='/physical_device:CPU:0', device_type='CPU'),\n",
       " PhysicalDevice(name='/physical_device:GPU:0', device_type='GPU')]"
      ]
     },
     "metadata": {},
     "execution_count": 5
    }
   ],
   "source": [
    "import tensorflow as tf\n",
    "from tensorflow import keras\n",
    "from tensorflow.keras import layers\n",
    "\n",
    "tf.config.list_physical_devices()"
   ]
  },
  {
   "cell_type": "code",
   "execution_count": 27,
   "metadata": {},
   "outputs": [
    {
     "output_type": "stream",
     "name": "stdout",
     "text": [
      "Model: \"sequential_19\"\n_________________________________________________________________\nLayer (type)                 Output Shape              Param #   \n=================================================================\nzero_padding2d_24 (ZeroPaddi (None, 68, 68, 28)        0         \n_________________________________________________________________\nconv2d_36 (Conv2D)           (None, 64, 64, 100)       70100     \n_________________________________________________________________\nzero_padding2d_25 (ZeroPaddi (None, 68, 68, 100)       0         \n_________________________________________________________________\nconv2d_37 (Conv2D)           (None, 64, 64, 100)       250100    \n_________________________________________________________________\nzero_padding2d_26 (ZeroPaddi (None, 68, 68, 100)       0         \n_________________________________________________________________\nconv2d_38 (Conv2D)           (None, 64, 64, 100)       250100    \n_________________________________________________________________\nzero_padding2d_27 (ZeroPaddi (None, 68, 68, 100)       0         \n_________________________________________________________________\nconv2d_39 (Conv2D)           (None, 64, 64, 100)       250100    \n_________________________________________________________________\nzero_padding2d_28 (ZeroPaddi (None, 68, 68, 100)       0         \n_________________________________________________________________\nconv2d_40 (Conv2D)           (None, 64, 64, 100)       250100    \n_________________________________________________________________\nzero_padding2d_29 (ZeroPaddi (None, 68, 68, 100)       0         \n_________________________________________________________________\nconv2d_41 (Conv2D)           (None, 64, 64, 100)       250100    \n_________________________________________________________________\nzero_padding2d_30 (ZeroPaddi (None, 68, 68, 100)       0         \n_________________________________________________________________\nconv2d_42 (Conv2D)           (None, 64, 64, 100)       250100    \n_________________________________________________________________\nzero_padding2d_31 (ZeroPaddi (None, 68, 68, 100)       0         \n_________________________________________________________________\nconv2d_43 (Conv2D)           (None, 64, 64, 784)       1960784   \n=================================================================\nTotal params: 3,531,484\nTrainable params: 3,531,484\nNon-trainable params: 0\n_________________________________________________________________\n"
     ]
    }
   ],
   "source": [
    "def make_nn():\n",
    "    L = 9\n",
    "    kernel_size = 5\n",
    "    patch_size = 64\n",
    "    input_channels = 28\n",
    "    hidden_channels = 100\n",
    "    in_between_layers = 7\n",
    "    output_kernel_size = 28\n",
    "\n",
    "    model = keras.Sequential()\n",
    "    model.add(keras.Input(shape=(patch_size, patch_size, input_channels)))\n",
    "    for i in range(in_between_layers):\n",
    "        model.add(keras.layers.ZeroPadding2D(padding=(2, 2)))\n",
    "        model.add(layers.Conv2D(hidden_channels, kernel_size=kernel_size, strides=1, activation=\"relu\"))\n",
    "    model.add(keras.layers.ZeroPadding2D(padding=(2, 2)))\n",
    "    model.add(layers.Conv2D(output_kernel_size**2, kernel_size=kernel_size, strides=1, activation=\"relu\"))\n",
    "    model.compile(loss=\"mean_absolute_error\", optimizer=\"adam\", metrics=['accuracy'])\n",
    "    return model;\n",
    "model = make_nn()\n",
    "\n",
    "model.summary()\n"
   ]
  },
  {
   "cell_type": "code",
   "execution_count": null,
   "metadata": {},
   "outputs": [],
   "source": []
  }
 ]
}