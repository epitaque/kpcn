{
 "metadata": {
  "language_info": {
   "codemirror_mode": {
    "name": "ipython",
    "version": 3
   },
   "file_extension": ".py",
   "mimetype": "text/x-python",
   "name": "python",
   "nbconvert_exporter": "python",
   "pygments_lexer": "ipython3",
   "version": "3.8.8-final"
  },
  "orig_nbformat": 2,
  "kernelspec": {
   "name": "python388jvsc74a57bd05a9bf6c2315224b3b5934bc5e2f4700a7f472676904979a496b583b6d22b6a00",
   "display_name": "Python 3.8.8 64-bit"
  },
  "metadata": {
   "interpreter": {
    "hash": "2cd2abeaea65c445b1f865368dbbfc01b247d4af0d8b7b9288cea8582e68bfb5"
   }
  }
 },
 "nbformat": 4,
 "nbformat_minor": 2,
 "cells": [
  {
   "source": [
    "pip install tensorflow  \n"
   ],
   "cell_type": "markdown",
   "metadata": {}
  },
  {
   "cell_type": "code",
   "execution_count": 1,
   "metadata": {},
   "outputs": [
    {
     "output_type": "execute_result",
     "data": {
      "text/plain": [
       "[PhysicalDevice(name='/physical_device:CPU:0', device_type='CPU'),\n",
       " PhysicalDevice(name='/physical_device:GPU:0', device_type='GPU')]"
      ]
     },
     "metadata": {},
     "execution_count": 1
    }
   ],
   "source": [
    "import tensorflow as tf\n",
    "from tensorflow import keras\n",
    "from tensorflow.keras import layers\n",
    "import numpy as np\n",
    "import imageio\n",
    "import math\n",
    "import IPython.display\n",
    "import PIL\n",
    "\n",
    "tf.config.list_physical_devices()"
   ]
  },
  {
   "cell_type": "code",
   "execution_count": 27,
   "metadata": {},
   "outputs": [],
   "source": [
    "def imshow(data):\n",
    "    data = np.clip(data, 0.0, 255.0).astype(np.uint8)\n",
    "    pil_img = PIL.Image.fromarray(data, 'RGB')\n",
    "    display(pil_img)\n",
    "    return pil_img"
   ]
  },
  {
   "cell_type": "code",
   "execution_count": 3,
   "metadata": {},
   "outputs": [],
   "source": [
    "patch_size = 64\n",
    "mini_batch_size = 5\n",
    "percent_used_for_validation = 0.1\n",
    "checkpoint_path = \"training_2/cp.ckpt\"\n",
    "checkpoint_dir = os.path.dirname(checkpoint_path)"
   ]
  },
  {
   "cell_type": "code",
   "execution_count": 4,
   "metadata": {},
   "outputs": [],
   "source": [
    "def make_3_channels(image):\n",
    "    if image.ndim == 2: image = np.dstack((image, image, image))\n",
    "    image = image[:,:,:3]\n",
    "    return image\n",
    "\n",
    "def preprocess_color(color, albedo, epsilon=0.00316):\n",
    "    return color.astype(np.float32) / (albedo + epsilon)\n",
    "\n",
    "def postprocess_color(color, albedo, epsilon=0.00316):\n",
    "    return color * (albedo + epsilon)\n",
    "\n",
    "def preprocess_color_variance(variance, albedo, epsilon=0.00316):\n",
    "    return variance / (albedo + epsilon)**2\n",
    "\n",
    "def calculate_gradient(image):\n",
    "    y, x, c = image.shape\n",
    "    dx = image[:, 1:, :] - image[:, :x-1, :]\n",
    "    dy = image[1:, :, :] - image[:y-1, :, :]\n",
    "    dx = np.append(dx, np.zeros([y, 1, c]), axis=1)\n",
    "    dy = np.append(dy, np.zeros([1, x, c]), axis=0)\n",
    "    grad = np.dstack((dx, dy))\n",
    "    return grad\n",
    "\n",
    "def load_highspp(folder_path):\n",
    "    albedo = make_3_channels(imageio.imread(folder_path + \"/albedo.png\").astype(np.float32))\n",
    "    color = make_3_channels(imageio.imread(folder_path + \"/color.png\").astype(np.float32))\n",
    "    # color = preprocess_color(color, albedo)\n",
    "    return color\n",
    "\n",
    "def load_lowspp(folder_path):\n",
    "    print(\"loading \" + folder_path)\n",
    "\n",
    "    # albedo buffers\n",
    "    albedo = make_3_channels(imageio.imread(folder_path + \"/albedo.png\").astype(np.float32))\n",
    "    # albedo_variance = make_3_channels(imageio.imread(folder_path + \"/albedoVariance.png\").astype(np.float32))\n",
    "    # albedo_gradient = calculate_gradient(albedo)\n",
    "\n",
    "    # color buffers\n",
    "    color = make_3_channels(imageio.imread(folder_path + \"/color.png\").astype(np.float32))\n",
    "    # color = preprocess_color(color, albedo)\n",
    "    color_variance = make_3_channels(imageio.imread(folder_path + \"/colorVariance.png\").astype(np.float32))\n",
    "    # color_variance = preprocess_color_variance(color_variance, albedo)\n",
    "    color_gradient = calculate_gradient(color)\n",
    "\n",
    "    # depth buffers\n",
    "    depth = imageio.imread(folder_path + \"/depth.png\").astype(np.float32)\n",
    "    depth = depth.reshape((depth.shape[0], depth.shape[1], 1))\n",
    "    # depth_variance = imageio.imread(folder_path + \"/depthVariance.png\").astype(np.float32)\n",
    "    # depth_gradient = calculate_gradient(depth)\n",
    "\n",
    "    # normal buffers\n",
    "    normal = make_3_channels(imageio.imread(folder_path + \"/normal.png\").astype(np.float32))\n",
    "    # normal_variance = make_3_channels(imageio.imread(folder_path + \"/normalVariance.png\").astype(np.float32))\n",
    "    # normal_gradient = calculate_gradient(normal)\n",
    "\n",
    "    # combined = np.dstack((albedo, albedo_gradient, color, color_variance, color_gradient, depth, depth_variance, depth_gradient, normal, normal_variance, normal_gradient))\n",
    "    combined = np.dstack((color, color_variance, color_gradient, albedo, depth, normal))\n",
    "    return combined"
   ]
  },
  {
   "cell_type": "code",
   "execution_count": 5,
   "metadata": {},
   "outputs": [],
   "source": [
    "# split full res image into patch_size * patch_size images\n",
    "def get_patches(image):\n",
    "    x_patches = math.floor(image.shape[0]/patch_size)\n",
    "    y_patches = math.floor(image.shape[1]/patch_size)\n",
    "    patches = []\n",
    "    for x in range(x_patches):\n",
    "        for y in range(y_patches):\n",
    "            xstart = x * patch_size\n",
    "            xend = xstart + patch_size\n",
    "            ystart = y * patch_size\n",
    "            yend = ystart + patch_size\n",
    "            temp = image[xstart:xend, ystart:yend, :]\n",
    "            patches.append(temp)\n",
    "        patches.append(image[xstart:xend, image.shape[1]-patch_size:, :])\n",
    "    return patches"
   ]
  },
  {
   "cell_type": "code",
   "execution_count": 6,
   "metadata": {},
   "outputs": [],
   "source": [
    "def is_mostly_black(patch):\n",
    "    return np.mean(patch[:,:,:3].flatten(), axis=0) < 10.0\n",
    "\n",
    "# note to self: use this https://www.tensorflow.org/api_docs/python/tf/data/experimental/sample_from_datasets\n",
    "def load_x_y_patches():\n",
    "    x_patches = []\n",
    "    y_patches = []\n",
    "    orig = next(os.walk('./pngs'))[1]\n",
    "    folders = [x[0:x.rindex('16')] for x in orig if '16' in x]\n",
    "\n",
    "    for x in folders:\n",
    "        low_spp = load_lowspp('./pngs/' + x + '16')\n",
    "        high_spp = load_highspp('./pngs/' + x + '4096')\n",
    "        # residual = high_spp - low_spp[:, :, 12:15]\n",
    "        temp_x_patches = get_patches(low_spp)\n",
    "        temp_y_patches = get_patches(high_spp)\n",
    "\n",
    "        for i in range(len(temp_x_patches)):\n",
    "            if not is_mostly_black(temp_y_patches[0]):\n",
    "                x_patches.append(temp_x_patches[i])\n",
    "                residual = temp_y_patches[i] - temp_x_patches[i][:,:,:3]\n",
    "                # y_patches.append(residual)\n",
    "                y_patches.append(temp_y_patches[i])\n",
    "    \n",
    "    return x_patches, y_patches\n"
   ]
  },
  {
   "cell_type": "code",
   "execution_count": 7,
   "metadata": {},
   "outputs": [
    {
     "output_type": "stream",
     "name": "stdout",
     "text": [
      "loading ./pngs/bathroom16\n",
      "loading ./pngs/bathroom2-16\n",
      "loading ./pngs/bedroom-16\n",
      "loading ./pngs/car-16\n",
      "loading ./pngs/car2-16\n",
      "loading ./pngs/classroom-16\n",
      "loading ./pngs/coffee-16\n",
      "loading ./pngs/cornell-box-16\n",
      "loading ./pngs/curly-hair-16\n",
      "loading ./pngs/dining-room-16\n",
      "loading ./pngs/dragon-16\n",
      "loading ./pngs/furball-16\n",
      "loading ./pngs/house-16\n",
      "loading ./pngs/kitchen-16\n",
      "loading ./pngs/lamp-16\n",
      "loading ./pngs/living-room-16\n",
      "loading ./pngs/living-room-2-16\n",
      "loading ./pngs/living-room-3-16\n",
      "loading ./pngs/material-testball-16\n",
      "loading ./pngs/spaceship-16\n",
      "loading ./pngs/staircase-16\n",
      "loading ./pngs/staircase2-16\n",
      "loading ./pngs/teapot-16\n",
      "loading ./pngs/teapot-full-16\n",
      "loading ./pngs/veach-ajar-16\n",
      "loading ./pngs/veach-mis-16\n"
     ]
    }
   ],
   "source": [
    "x_patches, y_patches = load_x_y_patches()"
   ]
  },
  {
   "cell_type": "code",
   "execution_count": 35,
   "metadata": {},
   "outputs": [
    {
     "output_type": "execute_result",
     "data": {
      "text/plain": [
       "(64, 64, 19)"
      ]
     },
     "metadata": {},
     "execution_count": 35
    }
   ],
   "source": [
    "x_patches[0].shape\n",
    "# for i in range(1400, 1405):\n",
    "#     residual = y_patches[i][:,:,:3]\n",
    "#     x_patch = x_patches[i][:,:,:3]\n",
    "#     total = x_patch + residual\n",
    "\n",
    "#     imshow(total.astype(np.uint8))"
   ]
  },
  {
   "cell_type": "code",
   "execution_count": 22,
   "metadata": {},
   "outputs": [
    {
     "output_type": "stream",
     "name": "stdout",
     "text": [
      "Model: \"sequential_3\"\n_________________________________________________________________\nLayer (type)                 Output Shape              Param #   \n=================================================================\nzero_padding2d_10 (ZeroPaddi (None, 68, 68, 19)        0         \n_________________________________________________________________\nconv2d_10 (Conv2D)           (None, 64, 64, 100)       47600     \n_________________________________________________________________\nzero_padding2d_11 (ZeroPaddi (None, 68, 68, 100)       0         \n_________________________________________________________________\nconv2d_11 (Conv2D)           (None, 64, 64, 100)       250100    \n_________________________________________________________________\nzero_padding2d_12 (ZeroPaddi (None, 68, 68, 100)       0         \n_________________________________________________________________\nconv2d_12 (Conv2D)           (None, 64, 64, 100)       250100    \n_________________________________________________________________\nzero_padding2d_13 (ZeroPaddi (None, 68, 68, 100)       0         \n_________________________________________________________________\nconv2d_13 (Conv2D)           (None, 64, 64, 100)       250100    \n_________________________________________________________________\nzero_padding2d_14 (ZeroPaddi (None, 68, 68, 100)       0         \n_________________________________________________________________\nconv2d_14 (Conv2D)           (None, 64, 64, 100)       250100    \n_________________________________________________________________\nzero_padding2d_15 (ZeroPaddi (None, 68, 68, 100)       0         \n_________________________________________________________________\nconv2d_15 (Conv2D)           (None, 64, 64, 100)       250100    \n_________________________________________________________________\nzero_padding2d_16 (ZeroPaddi (None, 68, 68, 100)       0         \n_________________________________________________________________\nconv2d_16 (Conv2D)           (None, 64, 64, 100)       250100    \n_________________________________________________________________\nzero_padding2d_17 (ZeroPaddi (None, 68, 68, 100)       0         \n_________________________________________________________________\nconv2d_17 (Conv2D)           (None, 64, 64, 3)         7503      \n=================================================================\nTotal params: 1,555,703\nTrainable params: 1,555,703\nNon-trainable params: 0\n_________________________________________________________________\n"
     ]
    }
   ],
   "source": [
    "def make_nn(input_channels):\n",
    "    #basic model parameters\n",
    "    L = 9\n",
    "    kernel_size = 5\n",
    "    hidden_channels = 100\n",
    "    output_kernel_size = 21\n",
    "    in_between_layers = L - 2\n",
    "\n",
    "    # add layers\n",
    "    model = keras.Sequential()\n",
    "    model.add(keras.Input(shape=(patch_size, patch_size, input_channels)))\n",
    "    for i in range(in_between_layers):\n",
    "        model.add(keras.layers.ZeroPadding2D(padding=(2, 2)))\n",
    "        model.add(layers.Conv2D(hidden_channels, kernel_size=kernel_size, kernel_initializer=\"glorot_uniform\", strides=1, activation=\"relu\"))\n",
    "    model.add(keras.layers.ZeroPadding2D(padding=(2, 2)))\n",
    "    model.add(layers.Conv2D(3, kernel_size=kernel_size, kernel_initializer=\"glorot_uniform\", strides=1, activation=\"relu\"))\n",
    "\n",
    "    # compile model\n",
    "    opt = keras.optimizers.Adam(learning_rate=10e-5)\n",
    "    model.compile(loss=\"mean_absolute_error\", optimizer=opt, metrics=['mean_absolute_error'])\n",
    "    return model;\n",
    "\n",
    "model = make_nn(x_patches[0].shape[2])\n",
    "model.summary()\n"
   ]
  },
  {
   "cell_type": "code",
   "execution_count": 36,
   "metadata": {},
   "outputs": [],
   "source": [
    "# for i in range(400, 410):\n",
    "#     imshow((x_patches[i])[:,:,12:15].astype(np.uint8))\n",
    "#     imshow((y_patches[i])[:,:,:].astype(np.uint8))"
   ]
  },
  {
   "cell_type": "code",
   "execution_count": 9,
   "metadata": {},
   "outputs": [],
   "source": [
    "def create_tf_dataset(x_patches, y_patches):\n",
    "    validate_amount = math.floor(len(x_patches) * percent_used_for_validation)\n",
    "    rec_count = len(x_patches)\n",
    "    ds = tf.data.Dataset.from_tensor_slices((x_patches, y_patches))\n",
    "    ds = ds.shuffle(buffer_size=400, reshuffle_each_iteration=True)\n",
    "    train = ds.skip(validate_amount).batch(mini_batch_size)\n",
    "    validate = ds.take(validate_amount).batch(mini_batch_size)\n",
    "    return train, validate"
   ]
  },
  {
   "cell_type": "code",
   "execution_count": 10,
   "metadata": {},
   "outputs": [],
   "source": [
    "# train, validate = prepare_training_data()\n",
    "train, validate = create_tf_dataset(x_patches, y_patches)"
   ]
  },
  {
   "cell_type": "code",
   "execution_count": null,
   "metadata": {},
   "outputs": [],
   "source": [
    "latest = tf.train.latest_checkpoint(checkpoint_dir)\n",
    "model.load_weights(latest)"
   ]
  },
  {
   "cell_type": "code",
   "execution_count": 29,
   "metadata": {},
   "outputs": [],
   "source": [
    "class DisplayImageCallback(tf.keras.callbacks.Callback):\n",
    "    def __init__(self):\n",
    "        super(DisplayImageCallback, self).__init__()\n",
    "    \n",
    "    def on_epoch_end(self, epoch, logs=None):\n",
    "        if epoch % 3 != 0:\n",
    "            return\n",
    "\n",
    "        # if predicting final output\n",
    "        pn = 405\n",
    "        xpatch = x_patches[pn]\n",
    "        xpatchcolor = xpatch[:,:,:3]\n",
    "        predicted = model.predict(xpatch.reshape((1, xpatch.shape[0], xpatch.shape[1], xpatch.shape[2])))[0]\n",
    "        gt = y_patches[pn]\n",
    "\n",
    "        imshow(xpatchcolor).save(checkpoint_dir + '/xpatch.png')\n",
    "        imshow(gt).save(checkpoint_dir + '/gt.png')\n",
    "        imshow(predicted).save(checkpoint_dir + '/prediction.png')\n",
    "\n",
    "\n",
    "# xpatch = x_patches[pn]\n",
    "# xpatchcolor = xpatch[:,:,:3]\n",
    "# predicted = model.predict(xpatch.reshape((1, xpatch.shape[0], xpatch.shape[1], xpatch.shape[2])))[0]\n",
    "# gt = y_patches[pn]\n",
    "\n",
    "# imshow(xpatchcolor).save(checkpoint_dir + '/xpatch.png')\n",
    "# imshow(gt).save(checkpoint_dir + '/gt.png')\n",
    "# imshow(predicted).save(checkpoint_dir + '/prediction.png')\n"
   ]
  },
  {
   "cell_type": "code",
   "execution_count": 30,
   "metadata": {},
   "outputs": [
    {
     "output_type": "stream",
     "name": "stdout",
     "text": [
      "Fit model on training data\n",
      "Epoch 1/10000\n",
      "688/688 [==============================] - 42s 61ms/step - loss: 6.7962 - mean_absolute_error: 6.7962 - val_loss: 10.6191 - val_mean_absolute_error: 10.6191\n",
      "\n",
      "Epoch 00001: saving model to training_2\\cp.ckpt\n"
     ]
    },
    {
     "output_type": "display_data",
     "data": {
      "text/plain": "<PIL.Image.Image image mode=RGB size=64x64 at 0x19E04808850>",
      "image/png": "[encoded data removed]"
     },
     "metadata": {}
    },
    {
     "output_type": "display_data",
     "data": {
      "text/plain": "<PIL.Image.Image image mode=RGB size=64x64 at 0x19E04808850>",
      "image/png": "[encoded data removed]"
     },
     "metadata": {}
    },
    {
     "output_type": "display_data",
     "data": {
      "text/plain": "<PIL.Image.Image image mode=RGB size=64x64 at 0x19E04808850>",
      "image/png": "[encoded data removed]"
     },
     "metadata": {}
    },
    {
     "output_type": "stream",
     "name": "stdout",
     "text": [
      "Epoch 2/10000\n",
      "464/688 [===================>..........] - ETA: 12s - loss: 6.9887 - mean_absolute_error: 6.9887"
     ]
    },
    {
     "output_type": "error",
     "ename": "KeyboardInterrupt",
     "evalue": "",
     "traceback": [
      "\u001b[1;31m---------------------------------------------------------------------------\u001b[0m",
      "\u001b[1;31mKeyboardInterrupt\u001b[0m                         Traceback (most recent call last)",
      "\u001b[1;32m<ipython-input-30-cbb28534f108>\u001b[0m in \u001b[0;36m<module>\u001b[1;34m\u001b[0m\n\u001b[0;32m      5\u001b[0m                                                  \u001b[0msave_weights_only\u001b[0m\u001b[1;33m=\u001b[0m\u001b[1;32mTrue\u001b[0m\u001b[1;33m,\u001b[0m\u001b[1;33m\u001b[0m\u001b[1;33m\u001b[0m\u001b[0m\n\u001b[0;32m      6\u001b[0m                                                  verbose=1)\n\u001b[1;32m----> 7\u001b[1;33m history = model.fit(\n\u001b[0m\u001b[0;32m      8\u001b[0m     \u001b[0mtrain\u001b[0m\u001b[1;33m,\u001b[0m\u001b[1;33m\u001b[0m\u001b[1;33m\u001b[0m\u001b[0m\n\u001b[0;32m      9\u001b[0m     \u001b[0mvalidation_data\u001b[0m\u001b[1;33m=\u001b[0m\u001b[0mvalidate\u001b[0m\u001b[1;33m,\u001b[0m\u001b[1;33m\u001b[0m\u001b[1;33m\u001b[0m\u001b[0m\n",
      "\u001b[1;32m~\\AppData\\Local\\Programs\\Python\\Python38\\lib\\site-packages\\tensorflow\\python\\keras\\engine\\training.py\u001b[0m in \u001b[0;36mfit\u001b[1;34m(self, x, y, batch_size, epochs, verbose, callbacks, validation_split, validation_data, shuffle, class_weight, sample_weight, initial_epoch, steps_per_epoch, validation_steps, validation_batch_size, validation_freq, max_queue_size, workers, use_multiprocessing)\u001b[0m\n\u001b[0;32m   1098\u001b[0m                 _r=1):\n\u001b[0;32m   1099\u001b[0m               \u001b[0mcallbacks\u001b[0m\u001b[1;33m.\u001b[0m\u001b[0mon_train_batch_begin\u001b[0m\u001b[1;33m(\u001b[0m\u001b[0mstep\u001b[0m\u001b[1;33m)\u001b[0m\u001b[1;33m\u001b[0m\u001b[1;33m\u001b[0m\u001b[0m\n\u001b[1;32m-> 1100\u001b[1;33m               \u001b[0mtmp_logs\u001b[0m \u001b[1;33m=\u001b[0m \u001b[0mself\u001b[0m\u001b[1;33m.\u001b[0m\u001b[0mtrain_function\u001b[0m\u001b[1;33m(\u001b[0m\u001b[0miterator\u001b[0m\u001b[1;33m)\u001b[0m\u001b[1;33m\u001b[0m\u001b[1;33m\u001b[0m\u001b[0m\n\u001b[0m\u001b[0;32m   1101\u001b[0m               \u001b[1;32mif\u001b[0m \u001b[0mdata_handler\u001b[0m\u001b[1;33m.\u001b[0m\u001b[0mshould_sync\u001b[0m\u001b[1;33m:\u001b[0m\u001b[1;33m\u001b[0m\u001b[1;33m\u001b[0m\u001b[0m\n\u001b[0;32m   1102\u001b[0m                 \u001b[0mcontext\u001b[0m\u001b[1;33m.\u001b[0m\u001b[0masync_wait\u001b[0m\u001b[1;33m(\u001b[0m\u001b[1;33m)\u001b[0m\u001b[1;33m\u001b[0m\u001b[1;33m\u001b[0m\u001b[0m\n",
      "\u001b[1;32m~\\AppData\\Local\\Programs\\Python\\Python38\\lib\\site-packages\\tensorflow\\python\\eager\\def_function.py\u001b[0m in \u001b[0;36m__call__\u001b[1;34m(self, *args, **kwds)\u001b[0m\n\u001b[0;32m    826\u001b[0m     \u001b[0mtracing_count\u001b[0m \u001b[1;33m=\u001b[0m \u001b[0mself\u001b[0m\u001b[1;33m.\u001b[0m\u001b[0mexperimental_get_tracing_count\u001b[0m\u001b[1;33m(\u001b[0m\u001b[1;33m)\u001b[0m\u001b[1;33m\u001b[0m\u001b[1;33m\u001b[0m\u001b[0m\n\u001b[0;32m    827\u001b[0m     \u001b[1;32mwith\u001b[0m \u001b[0mtrace\u001b[0m\u001b[1;33m.\u001b[0m\u001b[0mTrace\u001b[0m\u001b[1;33m(\u001b[0m\u001b[0mself\u001b[0m\u001b[1;33m.\u001b[0m\u001b[0m_name\u001b[0m\u001b[1;33m)\u001b[0m \u001b[1;32mas\u001b[0m \u001b[0mtm\u001b[0m\u001b[1;33m:\u001b[0m\u001b[1;33m\u001b[0m\u001b[1;33m\u001b[0m\u001b[0m\n\u001b[1;32m--> 828\u001b[1;33m       \u001b[0mresult\u001b[0m \u001b[1;33m=\u001b[0m \u001b[0mself\u001b[0m\u001b[1;33m.\u001b[0m\u001b[0m_call\u001b[0m\u001b[1;33m(\u001b[0m\u001b[1;33m*\u001b[0m\u001b[0margs\u001b[0m\u001b[1;33m,\u001b[0m \u001b[1;33m**\u001b[0m\u001b[0mkwds\u001b[0m\u001b[1;33m)\u001b[0m\u001b[1;33m\u001b[0m\u001b[1;33m\u001b[0m\u001b[0m\n\u001b[0m\u001b[0;32m    829\u001b[0m       \u001b[0mcompiler\u001b[0m \u001b[1;33m=\u001b[0m \u001b[1;34m\"xla\"\u001b[0m \u001b[1;32mif\u001b[0m \u001b[0mself\u001b[0m\u001b[1;33m.\u001b[0m\u001b[0m_experimental_compile\u001b[0m \u001b[1;32melse\u001b[0m \u001b[1;34m\"nonXla\"\u001b[0m\u001b[1;33m\u001b[0m\u001b[1;33m\u001b[0m\u001b[0m\n\u001b[0;32m    830\u001b[0m       \u001b[0mnew_tracing_count\u001b[0m \u001b[1;33m=\u001b[0m \u001b[0mself\u001b[0m\u001b[1;33m.\u001b[0m\u001b[0mexperimental_get_tracing_count\u001b[0m\u001b[1;33m(\u001b[0m\u001b[1;33m)\u001b[0m\u001b[1;33m\u001b[0m\u001b[1;33m\u001b[0m\u001b[0m\n",
      "\u001b[1;32m~\\AppData\\Local\\Programs\\Python\\Python38\\lib\\site-packages\\tensorflow\\python\\eager\\def_function.py\u001b[0m in \u001b[0;36m_call\u001b[1;34m(self, *args, **kwds)\u001b[0m\n\u001b[0;32m    853\u001b[0m       \u001b[1;31m# In this case we have created variables on the first call, so we run the\u001b[0m\u001b[1;33m\u001b[0m\u001b[1;33m\u001b[0m\u001b[1;33m\u001b[0m\u001b[0m\n\u001b[0;32m    854\u001b[0m       \u001b[1;31m# defunned version which is guaranteed to never create variables.\u001b[0m\u001b[1;33m\u001b[0m\u001b[1;33m\u001b[0m\u001b[1;33m\u001b[0m\u001b[0m\n\u001b[1;32m--> 855\u001b[1;33m       \u001b[1;32mreturn\u001b[0m \u001b[0mself\u001b[0m\u001b[1;33m.\u001b[0m\u001b[0m_stateless_fn\u001b[0m\u001b[1;33m(\u001b[0m\u001b[1;33m*\u001b[0m\u001b[0margs\u001b[0m\u001b[1;33m,\u001b[0m \u001b[1;33m**\u001b[0m\u001b[0mkwds\u001b[0m\u001b[1;33m)\u001b[0m  \u001b[1;31m# pylint: disable=not-callable\u001b[0m\u001b[1;33m\u001b[0m\u001b[1;33m\u001b[0m\u001b[0m\n\u001b[0m\u001b[0;32m    856\u001b[0m     \u001b[1;32melif\u001b[0m \u001b[0mself\u001b[0m\u001b[1;33m.\u001b[0m\u001b[0m_stateful_fn\u001b[0m \u001b[1;32mis\u001b[0m \u001b[1;32mnot\u001b[0m \u001b[1;32mNone\u001b[0m\u001b[1;33m:\u001b[0m\u001b[1;33m\u001b[0m\u001b[1;33m\u001b[0m\u001b[0m\n\u001b[0;32m    857\u001b[0m       \u001b[1;31m# Release the lock early so that multiple threads can perform the call\u001b[0m\u001b[1;33m\u001b[0m\u001b[1;33m\u001b[0m\u001b[1;33m\u001b[0m\u001b[0m\n",
      "\u001b[1;32m~\\AppData\\Local\\Programs\\Python\\Python38\\lib\\site-packages\\tensorflow\\python\\eager\\function.py\u001b[0m in \u001b[0;36m__call__\u001b[1;34m(self, *args, **kwargs)\u001b[0m\n\u001b[0;32m   2940\u001b[0m       (graph_function,\n\u001b[0;32m   2941\u001b[0m        filtered_flat_args) = self._maybe_define_function(args, kwargs)\n\u001b[1;32m-> 2942\u001b[1;33m     return graph_function._call_flat(\n\u001b[0m\u001b[0;32m   2943\u001b[0m         filtered_flat_args, captured_inputs=graph_function.captured_inputs)  # pylint: disable=protected-access\n\u001b[0;32m   2944\u001b[0m \u001b[1;33m\u001b[0m\u001b[0m\n",
      "\u001b[1;32m~\\AppData\\Local\\Programs\\Python\\Python38\\lib\\site-packages\\tensorflow\\python\\eager\\function.py\u001b[0m in \u001b[0;36m_call_flat\u001b[1;34m(self, args, captured_inputs, cancellation_manager)\u001b[0m\n\u001b[0;32m   1916\u001b[0m         and executing_eagerly):\n\u001b[0;32m   1917\u001b[0m       \u001b[1;31m# No tape is watching; skip to running the function.\u001b[0m\u001b[1;33m\u001b[0m\u001b[1;33m\u001b[0m\u001b[1;33m\u001b[0m\u001b[0m\n\u001b[1;32m-> 1918\u001b[1;33m       return self._build_call_outputs(self._inference_function.call(\n\u001b[0m\u001b[0;32m   1919\u001b[0m           ctx, args, cancellation_manager=cancellation_manager))\n\u001b[0;32m   1920\u001b[0m     forward_backward = self._select_forward_and_backward_functions(\n",
      "\u001b[1;32m~\\AppData\\Local\\Programs\\Python\\Python38\\lib\\site-packages\\tensorflow\\python\\eager\\function.py\u001b[0m in \u001b[0;36mcall\u001b[1;34m(self, ctx, args, cancellation_manager)\u001b[0m\n\u001b[0;32m    553\u001b[0m       \u001b[1;32mwith\u001b[0m \u001b[0m_InterpolateFunctionError\u001b[0m\u001b[1;33m(\u001b[0m\u001b[0mself\u001b[0m\u001b[1;33m)\u001b[0m\u001b[1;33m:\u001b[0m\u001b[1;33m\u001b[0m\u001b[1;33m\u001b[0m\u001b[0m\n\u001b[0;32m    554\u001b[0m         \u001b[1;32mif\u001b[0m \u001b[0mcancellation_manager\u001b[0m \u001b[1;32mis\u001b[0m \u001b[1;32mNone\u001b[0m\u001b[1;33m:\u001b[0m\u001b[1;33m\u001b[0m\u001b[1;33m\u001b[0m\u001b[0m\n\u001b[1;32m--> 555\u001b[1;33m           outputs = execute.execute(\n\u001b[0m\u001b[0;32m    556\u001b[0m               \u001b[0mstr\u001b[0m\u001b[1;33m(\u001b[0m\u001b[0mself\u001b[0m\u001b[1;33m.\u001b[0m\u001b[0msignature\u001b[0m\u001b[1;33m.\u001b[0m\u001b[0mname\u001b[0m\u001b[1;33m)\u001b[0m\u001b[1;33m,\u001b[0m\u001b[1;33m\u001b[0m\u001b[1;33m\u001b[0m\u001b[0m\n\u001b[0;32m    557\u001b[0m               \u001b[0mnum_outputs\u001b[0m\u001b[1;33m=\u001b[0m\u001b[0mself\u001b[0m\u001b[1;33m.\u001b[0m\u001b[0m_num_outputs\u001b[0m\u001b[1;33m,\u001b[0m\u001b[1;33m\u001b[0m\u001b[1;33m\u001b[0m\u001b[0m\n",
      "\u001b[1;32m~\\AppData\\Local\\Programs\\Python\\Python38\\lib\\site-packages\\tensorflow\\python\\eager\\execute.py\u001b[0m in \u001b[0;36mquick_execute\u001b[1;34m(op_name, num_outputs, inputs, attrs, ctx, name)\u001b[0m\n\u001b[0;32m     57\u001b[0m   \u001b[1;32mtry\u001b[0m\u001b[1;33m:\u001b[0m\u001b[1;33m\u001b[0m\u001b[1;33m\u001b[0m\u001b[0m\n\u001b[0;32m     58\u001b[0m     \u001b[0mctx\u001b[0m\u001b[1;33m.\u001b[0m\u001b[0mensure_initialized\u001b[0m\u001b[1;33m(\u001b[0m\u001b[1;33m)\u001b[0m\u001b[1;33m\u001b[0m\u001b[1;33m\u001b[0m\u001b[0m\n\u001b[1;32m---> 59\u001b[1;33m     tensors = pywrap_tfe.TFE_Py_Execute(ctx._handle, device_name, op_name,\n\u001b[0m\u001b[0;32m     60\u001b[0m                                         inputs, attrs, num_outputs)\n\u001b[0;32m     61\u001b[0m   \u001b[1;32mexcept\u001b[0m \u001b[0mcore\u001b[0m\u001b[1;33m.\u001b[0m\u001b[0m_NotOkStatusException\u001b[0m \u001b[1;32mas\u001b[0m \u001b[0me\u001b[0m\u001b[1;33m:\u001b[0m\u001b[1;33m\u001b[0m\u001b[1;33m\u001b[0m\u001b[0m\n",
      "\u001b[1;31mKeyboardInterrupt\u001b[0m: "
     ]
    }
   ],
   "source": [
    "print(\"Fit model on training data\")\n",
    "image_cb = DisplayImageCallback()\n",
    "history_cb = tf.keras.callbacks.CSVLogger('./training_2/log.csv', separator=\",\", append=True)\n",
    "cp_callback = tf.keras.callbacks.ModelCheckpoint(filepath=checkpoint_path,\n",
    "                                                 save_weights_only=True,\n",
    "                                                 verbose=1)\n",
    "history = model.fit(\n",
    "    train,\n",
    "    validation_data=validate,\n",
    "    epochs=10000,\n",
    "    callbacks=[cp_callback, history_cb, image_cb]\n",
    ")"
   ]
  },
  {
   "cell_type": "code",
   "execution_count": 12,
   "metadata": {},
   "outputs": [],
   "source": [
    "# print(model.layers[1].get_weights()[0])\n",
    "# model.predict(xpatch)"
   ]
  },
  {
   "cell_type": "code",
   "execution_count": null,
   "metadata": {},
   "outputs": [],
   "source": [
    "newpatch = x_patches[1350] #np.reshape(x_patches[1350], (1, 64, 64, 40))\n",
    "newpatch = np.stack((newpatch, newpatch, newpatch, newpatch, newpatch), axis=0)\n",
    "newpatch.shape"
   ]
  },
  {
   "cell_type": "code",
   "execution_count": 13,
   "metadata": {},
   "outputs": [
    {
     "output_type": "execute_result",
     "data": {
      "text/plain": [
       "array([[[[ 79.,  54.,  37., ..., 181.,  53., 194.],\n",
       "         [ 81.,  51.,  33., ..., 182.,  52., 193.],\n",
       "         [130.,  62.,  35., ..., 182.,  51., 192.],\n",
       "         ...,\n",
       "         [139.,  89.,  60., ..., 127., 127., 255.],\n",
       "         [123.,  89.,  64., ..., 127., 127., 255.],\n",
       "         [181., 128.,  91., ..., 127., 127., 255.]],\n",
       "\n",
       "        [[ 48.,  25.,  14., ..., 176.,  44., 187.],\n",
       "         [111.,  73.,  50., ..., 177.,  44., 186.],\n",
       "         [ 55.,  36.,  24., ..., 181.,  30., 189.],\n",
       "         ...,\n",
       "         [ 77.,  38.,  24., ..., 127., 127., 255.],\n",
       "         [154., 111.,  79., ..., 127., 127., 255.],\n",
       "         [148.,  84.,  51., ..., 127., 127., 255.]],\n",
       "\n",
       "        [[115.,  80.,  56., ..., 173.,  57., 182.],\n",
       "         [ 95.,  46.,  28., ..., 177.,  43., 185.],\n",
       "         [ 72.,  32.,  16., ..., 160., 114., 166.],\n",
       "         ...,\n",
       "         [151.,  78.,  47., ..., 127., 127., 255.],\n",
       "         [ 87.,  60.,  42., ..., 127., 127., 255.],\n",
       "         [111.,  87.,  64., ..., 127., 127., 255.]],\n",
       "\n",
       "        ...,\n",
       "\n",
       "        [[255., 255., 255., ..., 123., 254., 127.],\n",
       "         [255., 255., 255., ..., 122., 254., 127.],\n",
       "         [255., 255., 229., ..., 120., 254., 127.],\n",
       "         ...,\n",
       "         [163.,  71.,  35., ..., 127., 255., 127.],\n",
       "         [147.,  65.,  32., ..., 127., 255., 127.],\n",
       "         [185.,  74.,  34., ..., 127., 255., 127.]],\n",
       "\n",
       "        [[255., 255., 255., ..., 121., 254., 127.],\n",
       "         [255., 255., 240., ..., 119., 254., 127.],\n",
       "         [255., 237., 177., ..., 116., 254., 127.],\n",
       "         ...,\n",
       "         [154.,  74.,  40., ..., 127., 255., 127.],\n",
       "         [177.,  99.,  61., ..., 127., 255., 127.],\n",
       "         [197.,  97.,  55., ..., 127., 255., 127.]],\n",
       "\n",
       "        [[255., 255., 255., ..., 118., 254., 127.],\n",
       "         [255., 255., 250., ..., 115., 254., 128.],\n",
       "         [255., 255., 207., ..., 113., 254., 128.],\n",
       "         ...,\n",
       "         [212., 123.,  79., ..., 127., 255., 127.],\n",
       "         [118.,  52.,  28., ..., 127., 255., 127.],\n",
       "         [165.,  83.,  48., ..., 127., 255., 127.]]],\n",
       "\n",
       "\n",
       "       [[[ 79.,  54.,  37., ..., 181.,  53., 194.],\n",
       "         [ 81.,  51.,  33., ..., 182.,  52., 193.],\n",
       "         [130.,  62.,  35., ..., 182.,  51., 192.],\n",
       "         ...,\n",
       "         [139.,  89.,  60., ..., 127., 127., 255.],\n",
       "         [123.,  89.,  64., ..., 127., 127., 255.],\n",
       "         [181., 128.,  91., ..., 127., 127., 255.]],\n",
       "\n",
       "        [[ 48.,  25.,  14., ..., 176.,  44., 187.],\n",
       "         [111.,  73.,  50., ..., 177.,  44., 186.],\n",
       "         [ 55.,  36.,  24., ..., 181.,  30., 189.],\n",
       "         ...,\n",
       "         [ 77.,  38.,  24., ..., 127., 127., 255.],\n",
       "         [154., 111.,  79., ..., 127., 127., 255.],\n",
       "         [148.,  84.,  51., ..., 127., 127., 255.]],\n",
       "\n",
       "        [[115.,  80.,  56., ..., 173.,  57., 182.],\n",
       "         [ 95.,  46.,  28., ..., 177.,  43., 185.],\n",
       "         [ 72.,  32.,  16., ..., 160., 114., 166.],\n",
       "         ...,\n",
       "         [151.,  78.,  47., ..., 127., 127., 255.],\n",
       "         [ 87.,  60.,  42., ..., 127., 127., 255.],\n",
       "         [111.,  87.,  64., ..., 127., 127., 255.]],\n",
       "\n",
       "        ...,\n",
       "\n",
       "        [[255., 255., 255., ..., 123., 254., 127.],\n",
       "         [255., 255., 255., ..., 122., 254., 127.],\n",
       "         [255., 255., 229., ..., 120., 254., 127.],\n",
       "         ...,\n",
       "         [163.,  71.,  35., ..., 127., 255., 127.],\n",
       "         [147.,  65.,  32., ..., 127., 255., 127.],\n",
       "         [185.,  74.,  34., ..., 127., 255., 127.]],\n",
       "\n",
       "        [[255., 255., 255., ..., 121., 254., 127.],\n",
       "         [255., 255., 240., ..., 119., 254., 127.],\n",
       "         [255., 237., 177., ..., 116., 254., 127.],\n",
       "         ...,\n",
       "         [154.,  74.,  40., ..., 127., 255., 127.],\n",
       "         [177.,  99.,  61., ..., 127., 255., 127.],\n",
       "         [197.,  97.,  55., ..., 127., 255., 127.]],\n",
       "\n",
       "        [[255., 255., 255., ..., 118., 254., 127.],\n",
       "         [255., 255., 250., ..., 115., 254., 128.],\n",
       "         [255., 255., 207., ..., 113., 254., 128.],\n",
       "         ...,\n",
       "         [212., 123.,  79., ..., 127., 255., 127.],\n",
       "         [118.,  52.,  28., ..., 127., 255., 127.],\n",
       "         [165.,  83.,  48., ..., 127., 255., 127.]]],\n",
       "\n",
       "\n",
       "       [[[ 79.,  54.,  37., ..., 181.,  53., 194.],\n",
       "         [ 81.,  51.,  33., ..., 182.,  52., 193.],\n",
       "         [130.,  62.,  35., ..., 182.,  51., 192.],\n",
       "         ...,\n",
       "         [139.,  89.,  60., ..., 127., 127., 255.],\n",
       "         [123.,  89.,  64., ..., 127., 127., 255.],\n",
       "         [181., 128.,  91., ..., 127., 127., 255.]],\n",
       "\n",
       "        [[ 48.,  25.,  14., ..., 176.,  44., 187.],\n",
       "         [111.,  73.,  50., ..., 177.,  44., 186.],\n",
       "         [ 55.,  36.,  24., ..., 181.,  30., 189.],\n",
       "         ...,\n",
       "         [ 77.,  38.,  24., ..., 127., 127., 255.],\n",
       "         [154., 111.,  79., ..., 127., 127., 255.],\n",
       "         [148.,  84.,  51., ..., 127., 127., 255.]],\n",
       "\n",
       "        [[115.,  80.,  56., ..., 173.,  57., 182.],\n",
       "         [ 95.,  46.,  28., ..., 177.,  43., 185.],\n",
       "         [ 72.,  32.,  16., ..., 160., 114., 166.],\n",
       "         ...,\n",
       "         [151.,  78.,  47., ..., 127., 127., 255.],\n",
       "         [ 87.,  60.,  42., ..., 127., 127., 255.],\n",
       "         [111.,  87.,  64., ..., 127., 127., 255.]],\n",
       "\n",
       "        ...,\n",
       "\n",
       "        [[255., 255., 255., ..., 123., 254., 127.],\n",
       "         [255., 255., 255., ..., 122., 254., 127.],\n",
       "         [255., 255., 229., ..., 120., 254., 127.],\n",
       "         ...,\n",
       "         [163.,  71.,  35., ..., 127., 255., 127.],\n",
       "         [147.,  65.,  32., ..., 127., 255., 127.],\n",
       "         [185.,  74.,  34., ..., 127., 255., 127.]],\n",
       "\n",
       "        [[255., 255., 255., ..., 121., 254., 127.],\n",
       "         [255., 255., 240., ..., 119., 254., 127.],\n",
       "         [255., 237., 177., ..., 116., 254., 127.],\n",
       "         ...,\n",
       "         [154.,  74.,  40., ..., 127., 255., 127.],\n",
       "         [177.,  99.,  61., ..., 127., 255., 127.],\n",
       "         [197.,  97.,  55., ..., 127., 255., 127.]],\n",
       "\n",
       "        [[255., 255., 255., ..., 118., 254., 127.],\n",
       "         [255., 255., 250., ..., 115., 254., 128.],\n",
       "         [255., 255., 207., ..., 113., 254., 128.],\n",
       "         ...,\n",
       "         [212., 123.,  79., ..., 127., 255., 127.],\n",
       "         [118.,  52.,  28., ..., 127., 255., 127.],\n",
       "         [165.,  83.,  48., ..., 127., 255., 127.]]],\n",
       "\n",
       "\n",
       "       [[[ 79.,  54.,  37., ..., 181.,  53., 194.],\n",
       "         [ 81.,  51.,  33., ..., 182.,  52., 193.],\n",
       "         [130.,  62.,  35., ..., 182.,  51., 192.],\n",
       "         ...,\n",
       "         [139.,  89.,  60., ..., 127., 127., 255.],\n",
       "         [123.,  89.,  64., ..., 127., 127., 255.],\n",
       "         [181., 128.,  91., ..., 127., 127., 255.]],\n",
       "\n",
       "        [[ 48.,  25.,  14., ..., 176.,  44., 187.],\n",
       "         [111.,  73.,  50., ..., 177.,  44., 186.],\n",
       "         [ 55.,  36.,  24., ..., 181.,  30., 189.],\n",
       "         ...,\n",
       "         [ 77.,  38.,  24., ..., 127., 127., 255.],\n",
       "         [154., 111.,  79., ..., 127., 127., 255.],\n",
       "         [148.,  84.,  51., ..., 127., 127., 255.]],\n",
       "\n",
       "        [[115.,  80.,  56., ..., 173.,  57., 182.],\n",
       "         [ 95.,  46.,  28., ..., 177.,  43., 185.],\n",
       "         [ 72.,  32.,  16., ..., 160., 114., 166.],\n",
       "         ...,\n",
       "         [151.,  78.,  47., ..., 127., 127., 255.],\n",
       "         [ 87.,  60.,  42., ..., 127., 127., 255.],\n",
       "         [111.,  87.,  64., ..., 127., 127., 255.]],\n",
       "\n",
       "        ...,\n",
       "\n",
       "        [[255., 255., 255., ..., 123., 254., 127.],\n",
       "         [255., 255., 255., ..., 122., 254., 127.],\n",
       "         [255., 255., 229., ..., 120., 254., 127.],\n",
       "         ...,\n",
       "         [163.,  71.,  35., ..., 127., 255., 127.],\n",
       "         [147.,  65.,  32., ..., 127., 255., 127.],\n",
       "         [185.,  74.,  34., ..., 127., 255., 127.]],\n",
       "\n",
       "        [[255., 255., 255., ..., 121., 254., 127.],\n",
       "         [255., 255., 240., ..., 119., 254., 127.],\n",
       "         [255., 237., 177., ..., 116., 254., 127.],\n",
       "         ...,\n",
       "         [154.,  74.,  40., ..., 127., 255., 127.],\n",
       "         [177.,  99.,  61., ..., 127., 255., 127.],\n",
       "         [197.,  97.,  55., ..., 127., 255., 127.]],\n",
       "\n",
       "        [[255., 255., 255., ..., 118., 254., 127.],\n",
       "         [255., 255., 250., ..., 115., 254., 128.],\n",
       "         [255., 255., 207., ..., 113., 254., 128.],\n",
       "         ...,\n",
       "         [212., 123.,  79., ..., 127., 255., 127.],\n",
       "         [118.,  52.,  28., ..., 127., 255., 127.],\n",
       "         [165.,  83.,  48., ..., 127., 255., 127.]]],\n",
       "\n",
       "\n",
       "       [[[ 79.,  54.,  37., ..., 181.,  53., 194.],\n",
       "         [ 81.,  51.,  33., ..., 182.,  52., 193.],\n",
       "         [130.,  62.,  35., ..., 182.,  51., 192.],\n",
       "         ...,\n",
       "         [139.,  89.,  60., ..., 127., 127., 255.],\n",
       "         [123.,  89.,  64., ..., 127., 127., 255.],\n",
       "         [181., 128.,  91., ..., 127., 127., 255.]],\n",
       "\n",
       "        [[ 48.,  25.,  14., ..., 176.,  44., 187.],\n",
       "         [111.,  73.,  50., ..., 177.,  44., 186.],\n",
       "         [ 55.,  36.,  24., ..., 181.,  30., 189.],\n",
       "         ...,\n",
       "         [ 77.,  38.,  24., ..., 127., 127., 255.],\n",
       "         [154., 111.,  79., ..., 127., 127., 255.],\n",
       "         [148.,  84.,  51., ..., 127., 127., 255.]],\n",
       "\n",
       "        [[115.,  80.,  56., ..., 173.,  57., 182.],\n",
       "         [ 95.,  46.,  28., ..., 177.,  43., 185.],\n",
       "         [ 72.,  32.,  16., ..., 160., 114., 166.],\n",
       "         ...,\n",
       "         [151.,  78.,  47., ..., 127., 127., 255.],\n",
       "         [ 87.,  60.,  42., ..., 127., 127., 255.],\n",
       "         [111.,  87.,  64., ..., 127., 127., 255.]],\n",
       "\n",
       "        ...,\n",
       "\n",
       "        [[255., 255., 255., ..., 123., 254., 127.],\n",
       "         [255., 255., 255., ..., 122., 254., 127.],\n",
       "         [255., 255., 229., ..., 120., 254., 127.],\n",
       "         ...,\n",
       "         [163.,  71.,  35., ..., 127., 255., 127.],\n",
       "         [147.,  65.,  32., ..., 127., 255., 127.],\n",
       "         [185.,  74.,  34., ..., 127., 255., 127.]],\n",
       "\n",
       "        [[255., 255., 255., ..., 121., 254., 127.],\n",
       "         [255., 255., 240., ..., 119., 254., 127.],\n",
       "         [255., 237., 177., ..., 116., 254., 127.],\n",
       "         ...,\n",
       "         [154.,  74.,  40., ..., 127., 255., 127.],\n",
       "         [177.,  99.,  61., ..., 127., 255., 127.],\n",
       "         [197.,  97.,  55., ..., 127., 255., 127.]],\n",
       "\n",
       "        [[255., 255., 255., ..., 118., 254., 127.],\n",
       "         [255., 255., 250., ..., 115., 254., 128.],\n",
       "         [255., 255., 207., ..., 113., 254., 128.],\n",
       "         ...,\n",
       "         [212., 123.,  79., ..., 127., 255., 127.],\n",
       "         [118.,  52.,  28., ..., 127., 255., 127.],\n",
       "         [165.,  83.,  48., ..., 127., 255., 127.]]]])"
      ]
     },
     "metadata": {},
     "execution_count": 13
    }
   ],
   "source": [
    "pn = 405\n",
    "xpatch = x_patches[pn]\n",
    "xpatch = np.stack((xpatch, xpatch, xpatch, xpatch, xpatch), axis=0)\n",
    "prediction = model.predict(xpatch)\n",
    "prediction\n",
    "xpatch"
   ]
  },
  {
   "cell_type": "code",
   "execution_count": null,
   "metadata": {},
   "outputs": [],
   "source": [
    "# imshow((prediction[0] * 255.0).astype(np.uint8))\n",
    "prediction"
   ]
  },
  {
   "cell_type": "code",
   "execution_count": null,
   "metadata": {},
   "outputs": [],
   "source": []
  }
 ]
}