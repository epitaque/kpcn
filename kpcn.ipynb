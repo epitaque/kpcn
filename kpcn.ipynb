{
 "cells": [
  {
   "cell_type": "markdown",
   "metadata": {},
   "source": [
    "pip install tensorflow  \n"
   ]
  },
  {
   "cell_type": "code",
   "execution_count": 1,
   "metadata": {},
   "outputs": [
    {
     "data": {
      "text/plain": [
       "[PhysicalDevice(name='/physical_device:CPU:0', device_type='CPU'),\n",
       " PhysicalDevice(name='/physical_device:GPU:0', device_type='GPU')]"
      ]
     },
     "execution_count": 1,
     "metadata": {},
     "output_type": "execute_result"
    }
   ],
   "source": [
    "import tensorflow as tf\n",
    "from tensorflow import keras\n",
    "from tensorflow.keras import layers\n",
    "from tensorflow.keras import backend as K\n",
    "import numpy as np\n",
    "import imageio\n",
    "import math\n",
    "import IPython.display\n",
    "import PIL\n",
    "import os\n",
    "\n",
    "K.set_floatx('float16')\n",
    "tf.config.list_physical_devices()"
   ]
  },
  {
   "cell_type": "code",
   "execution_count": 39,
   "metadata": {},
   "outputs": [],
   "source": [
    "patch_size = 64\n",
    "mini_batch_size = 3\n",
    "percent_used_for_validation = 0.1\n",
    "output_kernel_size = 17\n",
    "enable_albedo_div = False\n",
    "mode = \"kpcn\"\n",
    "checkpoint_path = \"training_\" + mode + \"/cp.ckpt\"\n",
    "checkpoint_dir = os.path.dirname(checkpoint_path)"
   ]
  },
  {
   "cell_type": "code",
   "execution_count": 37,
   "metadata": {},
   "outputs": [],
   "source": [
    "@tf.function\n",
    "def kernel_apply(input):\n",
    "    halfsize = output_kernel_size//2\n",
    "    w = input[:,:,:,3:]\n",
    "#     w = tf.math.exp(input[:,:,:,3:])\n",
    "#     y = tf.reduce_sum(tf.abs(w), axis=3)\n",
    "#     y = tf.reduce_sum(w, axis=3) + 0.05\n",
    "#     y = tf.reshape(y, (-1, y.shape[1], y.shape[2], 1))\n",
    "#     w = tf.math.divide_no_nan(w, y)\n",
    "    w = tf.stack([w, w, w], axis=3)\n",
    "    z = input[:,:,:,:3]*0\n",
    "\n",
    "    for i in range(output_kernel_size):\n",
    "        for j in range(output_kernel_size):\n",
    "            padded_input = tf.pad(input[:,:,:,:3], tf.constant([[0, 0], [j, output_kernel_size - j - 1], [i, output_kernel_size - i - 1], [0, 0]]), \"CONSTANT\")\n",
    "            padded_input = padded_input[:,halfsize:-halfsize,halfsize:-halfsize]\n",
    "            z = z + padded_input * w[:,:,:,:,i*3 + j]\n",
    "\n",
    "    return z\n",
    "\n",
    "\n",
    "class KernelApply2D(tf.keras.layers.Layer):\n",
    "    def __init__(self):\n",
    "        super(KernelApply2D, self).__init__()\n",
    "\n",
    "    def call(self, input):\n",
    "        return kernel_apply(input)\n",
    "\n",
    "# if mode == \"kpcn\":\n",
    "#     pass\n",
    "# output_kernel_size = 3\n",
    "# layer = KernelApply2D()\n",
    "# # xpatch = y_patches[405][:,:,:3]\n",
    "# # print(xpatch.dtype)\n",
    "# xpatch = tf.ones((32,32,3), dtype=tf.float16) * 255.0\n",
    "# xpatch = tf.pad(xpatch, [[16, 16], [16, 16], [0, 0]], \"CONSTANT\")\n",
    "# x = xpatch[:,:,0]\n",
    "# x = tf.repeat(x, 3)\n",
    "\n",
    "# x = tf.reshape(x, (1, 64, 64, 3))\n",
    "# w = tf.constant([1.0, 2.0, 1.0, 0.0, 0.0, 0.0, -1.0, -2.0, -1.0], dtype=tf.float16)\n",
    "# w = tf.reshape(w, (1, 1, 1, 9))\n",
    "# w = tf.tile(w, tf.constant([1, 64, 64, 1]))\n",
    "\n",
    "# x = tf.concat([x, w], axis=3)\n",
    "# predicted = layer(x)[0]\n",
    "\n",
    "# imshow(xpatch)\n",
    "# z = imshow(predicted)\n",
    "# output = layer(x)\n",
    "# output[0,0,0]"
   ]
  },
  {
   "cell_type": "code",
   "execution_count": 4,
   "metadata": {},
   "outputs": [],
   "source": [
    "class ChannelCroppingLayer(tf.keras.layers.Layer):\n",
    "    def __init__(self):\n",
    "        super(ChannelCroppingLayer, self).__init__()\n",
    "\n",
    "    def call(self, input):\n",
    "        return input[:,:,:,:3]\n"
   ]
  },
  {
   "cell_type": "code",
   "execution_count": 30,
   "metadata": {},
   "outputs": [],
   "source": [
    "def make_3_channels(image):\n",
    "    if image.ndim == 2: image = np.dstack((image, image, image))\n",
    "    if image.shape[2] == 1: \n",
    "        image = np.reshape(image, (64, 64))\n",
    "        image = np.dstack((image, image, image))\n",
    "    image = image[:,:,:3]\n",
    "    return image\n",
    "\n",
    "# somewhat based off the getVarianceMap function from https://github.com/Nidjo123/kpcn\n",
    "def preprocess_variance(variance):\n",
    "    variance = variance.max(axis=2)\n",
    "    variance = np.minimum(variance**(1.0/2.2), 1.0)\n",
    "    variance = variance / variance.max()\n",
    "    return variance\n",
    "    \n",
    "def preprocess_color(color, albedo, epsilon=0.1):\n",
    "    return color.astype(np.float32) / (albedo + epsilon)\n",
    "\n",
    "def postprocess_color(color, albedo, epsilon=0.1):\n",
    "    return color * (albedo + epsilon)\n",
    "\n",
    "def preprocess_color_variance(variance, albedo, epsilon=0.1):\n",
    "    variance = variance / (albedo + epsilon)**2\n",
    "    return preprocess_variance(variance)\n",
    "    \n",
    "def calculate_gradient(image):\n",
    "    y, x, c = image.shape\n",
    "    dx = image[:, 1:, :] - image[:, :x-1, :]\n",
    "    dy = image[1:, :, :] - image[:y-1, :, :]\n",
    "    dx = np.append(dx, np.zeros([y, 1, c]), axis=1)\n",
    "    dy = np.append(dy, np.zeros([1, x, c]), axis=0)\n",
    "    grad = np.dstack((dx, dy))\n",
    "    return grad\n",
    "\n",
    "def load_highspp(folder_path):\n",
    "    albedo = make_3_channels(imageio.imread(folder_path + \"/albedo.png\").astype(np.float32))\n",
    "    color = make_3_channels(imageio.imread(folder_path + \"/final.png\").astype(np.float32))\n",
    "    if enable_albedo_div:\n",
    "        color = preprocess_color(color, albedo)\n",
    "    \n",
    "    combined = np.dstack((color, albedo))\n",
    "    combined = combined.astype(np.float16)\n",
    "    assert not np.any(np.isnan(combined))\n",
    "    return combined\n",
    "\n",
    "def load_lowspp(folder_path):\n",
    "    print(\"loading \" + folder_path)\n",
    "\n",
    "    # albedo buffers\n",
    "    albedo = make_3_channels(imageio.imread(folder_path + \"/albedo.png\").astype(np.float32))\n",
    "    albedo_variance = make_3_channels(imageio.imread(folder_path + \"/albedoVariance.png\").astype(np.float32))\n",
    "    albedo_variance = preprocess_variance(albedo_variance)\n",
    "    albedo_gradient = calculate_gradient(albedo)\n",
    "\n",
    "    # color buffers\n",
    "    color = make_3_channels(imageio.imread(folder_path + \"/final.png\").astype(np.float32))\n",
    "    if enable_albedo_div:\n",
    "        color = preprocess_color(color, albedo)\n",
    "    color_variance = make_3_channels(imageio.imread(folder_path + \"/colorVariance.png\").astype(np.float32))\n",
    "    if enable_albedo_div:\n",
    "        color_variance = preprocess_color_variance(color_variance, albedo)\n",
    "    else:\n",
    "        color_variance = preprocess_variance(color_variance)\n",
    "\n",
    "    color_gradient = calculate_gradient(color)\n",
    "\n",
    "    # depth buffers\n",
    "    depth = imageio.imread(folder_path + \"/depth.png\").astype(np.float32)\n",
    "    depth = depth.reshape((depth.shape[0], depth.shape[1], 1))\n",
    "    depth_variance = make_3_channels(imageio.imread(folder_path + \"/depthVariance.png\").astype(np.float32))\n",
    "    depth_variance = preprocess_variance(depth_variance)\n",
    "    # depth_gradient = calculate_gradient(depth)\n",
    "\n",
    "    # normal buffers\n",
    "    normal = make_3_channels(imageio.imread(folder_path + \"/normal.png\").astype(np.float32))\n",
    "    normal_variance = make_3_channels(imageio.imread(folder_path + \"/normalVariance.png\").astype(np.float32))\n",
    "    normal_variance = preprocess_variance(normal_variance)\n",
    "    # normal_gradient = calculate_gradient(normal)\n",
    "    \n",
    "    normal_variance = normal_variance.reshape((normal_variance.shape[0], normal_variance.shape[1], 1))\n",
    "    color_variance = color_variance.reshape((color_variance.shape[0], color_variance.shape[1], 1))\n",
    "    albedo_variance = albedo_variance.reshape((albedo_variance.shape[0], albedo_variance.shape[1], 1))\n",
    "    depth_variance = depth_variance.reshape((depth_variance.shape[0], depth_variance.shape[1], 1))\n",
    "\n",
    "    \n",
    "#     chans = (color, albedo, color_gradient, albedo_gradient, depth, normal, color_variance, albedo_variance, depth_variance, normal_variance)\n",
    "#     names = []\n",
    "#     for x in \"color, albedo, color_gradient, albedo_gradient, depth, normal, color_variance, albedo_variance, depth_variance, normal_variance\".split(\", \"):\n",
    "#         names.append(x)\n",
    "#     for i in range(len((chans))):\n",
    "#         print(\"channel \" + names[i] + \" shape: \" + str(chans[i].shape))\n",
    "    \n",
    "    combined = np.dstack((color, albedo, color_gradient, albedo_gradient, depth, normal, color_variance, albedo_variance, depth_variance, normal_variance))\n",
    "    combined = combined.astype(np.float16)\n",
    "    assert not np.any(np.isnan(combined))\n",
    "    return combined"
   ]
  },
  {
   "cell_type": "code",
   "execution_count": 6,
   "metadata": {},
   "outputs": [],
   "source": [
    "def imshow(data):\n",
    "    data = np.clip(data, 0.0, 255.0).astype(np.uint8)\n",
    "    pil_img = PIL.Image.fromarray(data, 'RGB')\n",
    "    display(pil_img)\n",
    "    return pil_img\n",
    "\n",
    "def imshow_pp(data):\n",
    "    if enable_albedo_div:\n",
    "        data = postprocess_color(data[:,:,:3], data[:,:,3:])\n",
    "    return imshow(data[:,:,:3])\n"
   ]
  },
  {
   "cell_type": "code",
   "execution_count": 7,
   "metadata": {},
   "outputs": [],
   "source": [
    "# split full res image into patch_size * patch_size images\n",
    "def get_patches(image):\n",
    "    x_patches = math.floor(image.shape[0]/patch_size)\n",
    "    y_patches = math.floor(image.shape[1]/patch_size)\n",
    "    patches = []\n",
    "    for x in range(x_patches):\n",
    "        for y in range(y_patches):\n",
    "            xstart = x * patch_size\n",
    "            xend = xstart + patch_size\n",
    "            ystart = y * patch_size\n",
    "            yend = ystart + patch_size\n",
    "            temp = image[xstart:xend, ystart:yend, :]\n",
    "            patches.append(temp)\n",
    "        patches.append(image[xstart:xend, image.shape[1]-patch_size:, :])\n",
    "    return patches"
   ]
  },
  {
   "cell_type": "code",
   "execution_count": 8,
   "metadata": {},
   "outputs": [],
   "source": [
    "# note to self: use this https://www.tensorflow.org/api_docs/python/tf/data/experimental/sample_from_datasets\n",
    "def load_x_y_patches():\n",
    "    x_patches = []\n",
    "    y_patches = []\n",
    "    y_patches_with_albedo = []\n",
    "    orig = next(os.walk('./pngs'))[1]\n",
    "    folders = [x[0:x.rindex('16')] for x in orig if '16' in x]\n",
    "\n",
    "    for x in folders:\n",
    "        low_spp = load_lowspp('./pngs/' + x + '16')\n",
    "        high_spp = load_highspp('./pngs/' + x + '4096')\n",
    "        temp_x_patches = get_patches(low_spp)\n",
    "        temp_y_patches = get_patches(high_spp)\n",
    "\n",
    "        for i in range(len(temp_x_patches)):\n",
    "            x_patches.append(temp_x_patches[i])\n",
    "            y_patches.append(temp_y_patches[i][:,:,:3])\n",
    "            y_patches_with_albedo.append(temp_y_patches[i])\n",
    "\n",
    "    return x_patches, y_patches, y_patches_with_albedo\n"
   ]
  },
  {
   "cell_type": "code",
   "execution_count": 31,
   "metadata": {},
   "outputs": [
    {
     "name": "stdout",
     "output_type": "stream",
     "text": [
      "loading ./pngs/bathroom16\n",
      "loading ./pngs/bathroom2-16\n",
      "loading ./pngs/bedroom-16\n",
      "loading ./pngs/car-16\n",
      "loading ./pngs/car2-16\n",
      "loading ./pngs/classroom-16\n",
      "loading ./pngs/coffee-16\n",
      "loading ./pngs/cornell-box-16\n",
      "loading ./pngs/curly-hair-16\n",
      "loading ./pngs/dining-room-16\n",
      "loading ./pngs/dragon-16\n",
      "loading ./pngs/furball-16\n",
      "loading ./pngs/hair-curl-16\n",
      "loading ./pngs/house-16\n",
      "loading ./pngs/kitchen-16\n",
      "loading ./pngs/lamp-16\n",
      "loading ./pngs/living-room-16\n",
      "loading ./pngs/living-room-2-16\n",
      "loading ./pngs/living-room-3-16\n",
      "loading ./pngs/material-testball-16\n",
      "loading ./pngs/spaceship-16\n",
      "loading ./pngs/staircase-16\n",
      "loading ./pngs/staircase2-16\n",
      "loading ./pngs/straight-hair-16\n",
      "loading ./pngs/teapot-16\n",
      "loading ./pngs/teapot-full-16\n",
      "loading ./pngs/veach-ajar-16\n",
      "loading ./pngs/veach-mis-16\n"
     ]
    }
   ],
   "source": [
    "x_patches, y_patches, y_patches_with_albedo = load_x_y_patches()"
   ]
  },
  {
   "cell_type": "code",
   "execution_count": 10,
   "metadata": {},
   "outputs": [],
   "source": [
    "\n",
    "# load_lowspp(\"./pngs/bathroom16\")\n",
    "# print(\"x patches shape: \" + str(x_patches[0].shape))\n",
    "# pn = 405\n",
    "# print(\"color div albedo\")\n",
    "# imshow(x_patches[pn][:,:,:3])\n",
    "# print(\"color\")\n",
    "# imshow_pp(x_patches[pn][:,:,:6])\n",
    "# print(\"albedo\")\n",
    "# imshow(x_patches[pn][:,:,3:6])\n",
    "# print(\"color x gradient\")\n",
    "# imshow(x_patches[pn][:,:,6:9])\n",
    "# print(\"color y gradient\")\n",
    "# imshow(x_patches[pn][:,:,9:12])\n",
    "# print(\"albedo x gradient\")\n",
    "# imshow(x_patches[pn][:,:,12:15])\n",
    "# print(\"albedo y gradient\")\n",
    "# imshow(x_patches[pn][:,:,15:18])\n",
    "# print(\"depth\")\n",
    "# imshow(make_3_channels(x_patches[pn][:,:,18:19]))\n",
    "# print(\"normal\")\n",
    "# imshow(x_patches[pn][:,:,19:22])\n",
    "# print(\"color variance\")\n",
    "# imshow(make_3_channels(x_patches[pn][:,:,22:23]))\n",
    "# print(\"albedo variance\")\n",
    "# imshow(make_3_channels(x_patches[pn][:,:,23:24]))\n",
    "# print(\"depth variance\")\n",
    "# imshow(make_3_channels(x_patches[pn][:,:,24:25]))\n",
    "# print(\"normal variance\")\n",
    "# imshow(make_3_channels(x_patches[pn][:,:,25:26]))"
   ]
  },
  {
   "cell_type": "code",
   "execution_count": 40,
   "metadata": {},
   "outputs": [
    {
     "name": "stdout",
     "output_type": "stream",
     "text": [
      "Model: \"model_5\"\n",
      "__________________________________________________________________________________________________\n",
      "Layer (type)                    Output Shape         Param #     Connected to                     \n",
      "==================================================================================================\n",
      "input_7 (InputLayer)            [(None, 64, 64, 26)] 0                                            \n",
      "__________________________________________________________________________________________________\n",
      "zero_padding2d_48 (ZeroPadding2 (None, 68, 68, 26)   0           input_7[0][0]                    \n",
      "__________________________________________________________________________________________________\n",
      "conv2d_48 (Conv2D)              (None, 64, 64, 100)  65100       zero_padding2d_48[0][0]          \n",
      "__________________________________________________________________________________________________\n",
      "zero_padding2d_49 (ZeroPadding2 (None, 68, 68, 100)  0           conv2d_48[0][0]                  \n",
      "__________________________________________________________________________________________________\n",
      "conv2d_49 (Conv2D)              (None, 64, 64, 100)  250100      zero_padding2d_49[0][0]          \n",
      "__________________________________________________________________________________________________\n",
      "zero_padding2d_50 (ZeroPadding2 (None, 68, 68, 100)  0           conv2d_49[0][0]                  \n",
      "__________________________________________________________________________________________________\n",
      "conv2d_50 (Conv2D)              (None, 64, 64, 100)  250100      zero_padding2d_50[0][0]          \n",
      "__________________________________________________________________________________________________\n",
      "zero_padding2d_51 (ZeroPadding2 (None, 68, 68, 100)  0           conv2d_50[0][0]                  \n",
      "__________________________________________________________________________________________________\n",
      "conv2d_51 (Conv2D)              (None, 64, 64, 100)  250100      zero_padding2d_51[0][0]          \n",
      "__________________________________________________________________________________________________\n",
      "zero_padding2d_52 (ZeroPadding2 (None, 68, 68, 100)  0           conv2d_51[0][0]                  \n",
      "__________________________________________________________________________________________________\n",
      "conv2d_52 (Conv2D)              (None, 64, 64, 100)  250100      zero_padding2d_52[0][0]          \n",
      "__________________________________________________________________________________________________\n",
      "zero_padding2d_53 (ZeroPadding2 (None, 68, 68, 100)  0           conv2d_52[0][0]                  \n",
      "__________________________________________________________________________________________________\n",
      "conv2d_53 (Conv2D)              (None, 64, 64, 100)  250100      zero_padding2d_53[0][0]          \n",
      "__________________________________________________________________________________________________\n",
      "zero_padding2d_54 (ZeroPadding2 (None, 68, 68, 100)  0           conv2d_53[0][0]                  \n",
      "__________________________________________________________________________________________________\n",
      "conv2d_54 (Conv2D)              (None, 64, 64, 100)  250100      zero_padding2d_54[0][0]          \n",
      "__________________________________________________________________________________________________\n",
      "zero_padding2d_55 (ZeroPadding2 (None, 68, 68, 100)  0           conv2d_54[0][0]                  \n",
      "__________________________________________________________________________________________________\n",
      "channel_cropping_layer_6 (Chann (None, 64, 64, 3)    0           input_7[0][0]                    \n",
      "__________________________________________________________________________________________________\n",
      "conv2d_55 (Conv2D)              (None, 64, 64, 289)  722789      zero_padding2d_55[0][0]          \n",
      "__________________________________________________________________________________________________\n",
      "concatenate_6 (Concatenate)     (None, 64, 64, 292)  0           channel_cropping_layer_6[0][0]   \n",
      "                                                                 conv2d_55[0][0]                  \n",
      "__________________________________________________________________________________________________\n",
      "kernel_apply2d_8 (KernelApply2D (None, 64, 64, 3)    0           concatenate_6[0][0]              \n",
      "==================================================================================================\n",
      "Total params: 2,288,489\n",
      "Trainable params: 2,288,489\n",
      "Non-trainable params: 0\n",
      "__________________________________________________________________________________________________\n"
     ]
    }
   ],
   "source": [
    "def make_nn(input_channels):\n",
    "    #basic model parameters\n",
    "    L = 9\n",
    "    kernel_size = 5\n",
    "    hidden_channels = 100\n",
    "    in_between_layers = L - 2\n",
    "\n",
    "    # add layers\n",
    "    noisy_input = keras.Input(shape=(patch_size, patch_size, input_channels))\n",
    "    cropped_noisy_input = ChannelCroppingLayer()(noisy_input)\n",
    "    x = noisy_input\n",
    "    for i in range(in_between_layers):\n",
    "        x = layers.ZeroPadding2D(padding=(2, 2))(x)\n",
    "        x = layers.Conv2D(hidden_channels, kernel_size=kernel_size, kernel_initializer=\"glorot_uniform\", strides=1, activation=\"relu\")(x)\n",
    "\n",
    "    x = layers.ZeroPadding2D(padding=(2, 2))(x)\n",
    "    outputs = output_kernel_size**2 if mode == \"kpcn\" else 3\n",
    "    x = layers.Conv2D(outputs, kernel_size=kernel_size, kernel_initializer=\"glorot_uniform\", strides=1, activation=\"softmax\")(x)\n",
    "    x = layers.concatenate([cropped_noisy_input, x])\n",
    "    \n",
    "    x = KernelApply2D()(x)\n",
    "    # compile model\n",
    "    model = keras.Model(inputs=[noisy_input], outputs=[x])\n",
    "    opt = keras.optimizers.Adam(learning_rate=10e-5)\n",
    "    model.compile(loss=\"mean_absolute_error\", optimizer=opt, metrics=['mean_absolute_error'])\n",
    "\n",
    "    return model\n",
    "\n",
    "model = make_nn(x_patches[0].shape[2])\n",
    "model.summary()"
   ]
  },
  {
   "cell_type": "code",
   "execution_count": 12,
   "metadata": {},
   "outputs": [],
   "source": [
    "def create_tf_dataset(x_patches, y_patches):\n",
    "    validate_amount = math.floor(len(x_patches) * percent_used_for_validation)\n",
    "    rec_count = len(x_patches)\n",
    "    ds = tf.data.Dataset.from_tensor_slices((x_patches, y_patches))\n",
    "    ds = ds.shuffle(buffer_size=400, reshuffle_each_iteration=True)\n",
    "    train = ds.skip(validate_amount).batch(mini_batch_size)\n",
    "    validate = ds.take(validate_amount).batch(mini_batch_size)\n",
    "    return train, validate"
   ]
  },
  {
   "cell_type": "code",
   "execution_count": 13,
   "metadata": {},
   "outputs": [],
   "source": [
    "# train, validate = prepare_training_data()\n",
    "train, validate = create_tf_dataset(x_patches, y_patches)"
   ]
  },
  {
   "cell_type": "code",
   "execution_count": 14,
   "metadata": {},
   "outputs": [],
   "source": [
    "# latest = tf.train.latest_checkpoint(checkpoint_dir)\n",
    "# model.load_weights(latest)\n",
    "# model"
   ]
  },
  {
   "cell_type": "code",
   "execution_count": 41,
   "metadata": {},
   "outputs": [
    {
     "data": {
      "image/png": "[encoded data removed]",
      "text/plain": [
       "<PIL.Image.Image image mode=RGB size=64x64 at 0x20999E20FD0>"
      ]
     },
     "metadata": {},
     "output_type": "display_data"
    },
    {
     "data": {
      "image/png": "[encoded data removed]",
      "text/plain": [
       "<PIL.Image.Image image mode=RGB size=64x64 at 0x20999E004F0>"
      ]
     },
     "metadata": {},
     "output_type": "display_data"
    },
    {
     "data": {
      "image/png": "[encoded data removed]",
      "text/plain": [
       "<PIL.Image.Image image mode=RGB size=64x64 at 0x20999DF30D0>"
      ]
     },
     "metadata": {},
     "output_type": "display_data"
    }
   ],
   "source": [
    "def display_and_save_image(patch_number=405, epoch=-1):\n",
    "    xpatch = x_patches[patch_number]\n",
    "    xpatchcolor = xpatch[:,:,:6]\n",
    "    gt = y_patches_with_albedo[patch_number]\n",
    "    predicted = model.predict(xpatch.reshape((1, xpatch.shape[0], xpatch.shape[1], xpatch.shape[2])))[0]\n",
    "    predicted = np.dstack((predicted, gt[:,:,3:]))\n",
    "    if enable_albedo_div:\n",
    "        imshow_pp(xpatchcolor).save(checkpoint_dir + '/epoch_' + str(epoch) + '_xpatch.png')\n",
    "        imshow_pp(gt).save(checkpoint_dir + '/epoch_' + str(epoch) + '_gt.png')\n",
    "        imshow(gt[:,:,:3]).save(checkpoint_dir + '/epoch_' + str(epoch) + '_gt_divalbedo.png')\n",
    "        imshow_pp(predicted).save(checkpoint_dir + '/epoch_' + str(epoch) + '_prediction.png')\n",
    "        imshow(predicted[:,:,:3]).save(checkpoint_dir + '/epoch_' + str(epoch) + '_prediction_divalbedo.png')\n",
    "    else:\n",
    "        imshow(xpatchcolor[:,:,:3]).save(checkpoint_dir + '/epoch_' + str(epoch) + '_xpatch.png')\n",
    "        imshow(gt[:,:,:3]).save(checkpoint_dir + '/epoch_' + str(epoch) + '_gt.png')\n",
    "        imshow_pp(predicted[:,:,:3]).save(checkpoint_dir + '/epoch_' + str(epoch) + '_prediction.png')\n",
    "\n",
    "        \n",
    "class DisplayImageCallback(tf.keras.callbacks.Callback):\n",
    "    def __init__(self):\n",
    "        super(DisplayImageCallback, self).__init__()\n",
    "    \n",
    "    def on_epoch_end(self, epoch, logs=None):\n",
    "        if epoch % 1 != 0:\n",
    "            return\n",
    "\n",
    "        # if predicting final output\n",
    "        display_and_save_image(405, epoch)\n",
    "\n",
    "display_and_save_image()"
   ]
  },
  {
   "cell_type": "code",
   "execution_count": null,
   "metadata": {},
   "outputs": [
    {
     "name": "stdout",
     "output_type": "stream",
     "text": [
      "Fit model on training data\n",
      "Epoch 1/10000\n",
      "  81/2035 [>.............................] - ETA: 4:31 - loss: nan - mean_absolute_error: nan"
     ]
    }
   ],
   "source": [
    "print(\"Fit model on training data\")\n",
    "image_cb = DisplayImageCallback()\n",
    "history_cb = tf.keras.callbacks.CSVLogger(checkpoint_dir + '/log.csv', separator=\",\", append=True)\n",
    "cp_callback = tf.keras.callbacks.ModelCheckpoint(filepath=checkpoint_path,\n",
    "                                                 save_weights_only=True,\n",
    "                                                 verbose=1)\n",
    "history = model.fit(\n",
    "    train,\n",
    "    validation_data=validate,\n",
    "    epochs=10000,\n",
    "    callbacks=[cp_callback, history_cb, image_cb]\n",
    ")"
   ]
  },
  {
   "cell_type": "code",
   "execution_count": null,
   "metadata": {},
   "outputs": [],
   "source": [
    "# print(model.layers[1].get_weights()[0])\n",
    "# model.predict(xpatch)"
   ]
  },
  {
   "cell_type": "code",
   "execution_count": null,
   "metadata": {},
   "outputs": [],
   "source": [
    "newpatch = x_patches[1350] #np.reshape(x_patches[1350], (1, 64, 64, 40))\n",
    "newpatch = np.stack((newpatch, newpatch, newpatch, newpatch, newpatch), axis=0)\n",
    "newpatch.shape"
   ]
  },
  {
   "cell_type": "code",
   "execution_count": null,
   "metadata": {},
   "outputs": [],
   "source": [
    "pn = 405\n",
    "xpatch = x_patches[pn]\n",
    "xpatch = np.stack((xpatch, xpatch, xpatch, xpatch, xpatch), axis=0)\n",
    "prediction = model.predict(xpatch)\n",
    "prediction\n",
    "xpatch"
   ]
  },
  {
   "cell_type": "code",
   "execution_count": null,
   "metadata": {},
   "outputs": [],
   "source": [
    "# imshow((prediction[0] * 255.0).astype(np.uint8))\n",
    "prediction"
   ]
  },
  {
   "cell_type": "code",
   "execution_count": null,
   "metadata": {},
   "outputs": [],
   "source": []
  }
 ],
 "metadata": {
  "kernelspec": {
   "display_name": "Python 3",
   "language": "python",
   "name": "python3"
  },
  "language_info": {
   "codemirror_mode": {
    "name": "ipython",
    "version": 3
   },
   "file_extension": ".py",
   "mimetype": "text/x-python",
   "name": "python",
   "nbconvert_exporter": "python",
   "pygments_lexer": "ipython3",
   "version": "3.8.8"
  },
  "metadata": {
   "interpreter": {
    "hash": "2cd2abeaea65c445b1f865368dbbfc01b247d4af0d8b7b9288cea8582e68bfb5"
   }
  }
 },
 "nbformat": 4,
 "nbformat_minor": 4
}
