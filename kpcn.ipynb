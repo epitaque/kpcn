{
 "cells": [
  {
   "cell_type": "markdown",
   "metadata": {},
   "source": [
    "pip install tensorflow  \n"
   ]
  },
  {
   "cell_type": "code",
   "execution_count": 1,
   "metadata": {},
   "outputs": [
    {
     "data": {
      "text/plain": [
       "[PhysicalDevice(name='/physical_device:CPU:0', device_type='CPU'),\n",
       " PhysicalDevice(name='/physical_device:GPU:0', device_type='GPU')]"
      ]
     },
     "execution_count": 1,
     "metadata": {},
     "output_type": "execute_result"
    }
   ],
   "source": [
    "import tensorflow as tf\n",
    "from tensorflow import keras\n",
    "from tensorflow.keras import layers\n",
    "import numpy as np\n",
    "import imageio\n",
    "import math\n",
    "import IPython.display\n",
    "import PIL\n",
    "import os\n",
    "\n",
    "tf.config.list_physical_devices()"
   ]
  },
  {
   "cell_type": "code",
   "execution_count": 2,
   "metadata": {},
   "outputs": [],
   "source": [
    "patch_size = 64\n",
    "mini_batch_size = 1\n",
    "percent_used_for_validation = 0.1\n",
    "output_kernel_size = 19\n",
    "mode = \"kpcn\"\n",
    "checkpoint_path = \"training_2/cp.ckpt\"\n",
    "checkpoint_dir = os.path.dirname(checkpoint_path)"
   ]
  },
  {
   "cell_type": "code",
   "execution_count": 3,
   "metadata": {},
   "outputs": [],
   "source": [
    "def imshow(data):\n",
    "    data = np.clip(data, 0.0, 255.0).astype(np.uint8)\n",
    "    pil_img = PIL.Image.fromarray(data, 'RGB')\n",
    "    display(pil_img)\n",
    "    return pil_img"
   ]
  },
  {
   "cell_type": "code",
   "execution_count": 4,
   "metadata": {},
   "outputs": [],
   "source": [
    "class KernelAddingLayer(tf.keras.layers.Layer):\n",
    "    def __init__(self):\n",
    "        super(KernelAddingLayer, self).__init__()\n",
    "\n",
    "#     def build(self, input_shape):\n",
    "#         self.kernel = self.add_weight(\"kernel\",\n",
    "#                                       shape=[int(input_shape[-1]),\n",
    "#                                              self.num_outputs])\n",
    "\n",
    "#     def call(self, input):\n",
    "#         l = input.shape[1] + 2\n",
    "#         halfsize = output_kernel_size//2\n",
    "#         output = None\n",
    "#         expd_kernels = tf.math.exp(input[:,:,:,3:])\n",
    "#         sums = tf.reduce_sum(expd_kernels, axis=3)\n",
    "#         padded = tf.pad(divided, tf.constant([[0, 0], [halfsize, halfsize], [halfsize, halfsize]]), \"CONSTANT\")\n",
    "#         padded = tf.stack([padded, padded, padded], axis=3)\n",
    "        \n",
    "#         for i in range(output_kernel_size):\n",
    "#             for j in range(output_kernel_size):\n",
    "#                 expd = tf.math.exp(input[:,:,:,3 + i*3 + j])\n",
    "#                 divided = expd  / sums\n",
    "#                 paddedInput = tf.pad(input[:,:,:,0:3], tf.constant([[0, 0], [i, output_kernel_size - i - 1], [j, output_kernel_size - j - 1], [0, 0]]), \"CONSTANT\")\n",
    "#                 output = paddedInput * padded if output == None else output + paddedInput * padded\n",
    "#         return output[:,halfsize:-halfsize,halfsize:-halfsize]\n",
    "\n",
    "    def call(self, input):\n",
    "        halfsize = output_kernel_size//2\n",
    "        expd_kernels = tf.math.exp(input[:,:,:,3:])\n",
    "        sums = tf.reduce_sum(expd_kernels, axis=3)\n",
    "        reshaped_sums = tf.reshape(sums, (-1, sums.shape[1], sums.shape[2], 1))\n",
    "        weights = expd_kernels / reshaped_sums\n",
    "        padded_weights = tf.pad(weights, tf.constant([[0, 0], [halfsize, halfsize], [halfsize, halfsize], [0, 0]]), \"CONSTANT\")\n",
    "        padded_weights = tf.stack([padded_weights, padded_weights, padded_weights], axis=3)\n",
    "        output = tf.pad(input[:,:,:,:3]*0, [[0, 0], [output_kernel_size - 1, 0], [output_kernel_size - 1, 0], [0, 0]], \"CONSTANT\")\n",
    "        \n",
    "        for i in range(output_kernel_size):\n",
    "            for j in range(output_kernel_size):\n",
    "                padded_weight = padded_weights[:,:,:,:,i*3 + j]\n",
    "                padded_input = tf.pad(input[:,:,:,0:3], tf.constant([[0, 0], [i, output_kernel_size - i - 1], [j, output_kernel_size - j - 1], [0, 0]]), \"CONSTANT\")\n",
    "                output = output + padded_input * padded_weight\n",
    "\n",
    "        return output[:,halfsize:-halfsize,halfsize:-halfsize]\n",
    "\n",
    "# if mode == \"kpcn\":\n",
    "#     pass\n",
    "# layer = KernelAddingLayer()\n",
    "# x = tf.ones([5, 1, 1, 3 + 19**2])\n",
    "# output = layer(x)\n",
    "# output[0,0,0]"
   ]
  },
  {
   "cell_type": "code",
   "execution_count": 5,
   "metadata": {},
   "outputs": [],
   "source": [
    "class ChannelCroppingLayer(tf.keras.layers.Layer):\n",
    "    def __init__(self):\n",
    "        super(ChannelCroppingLayer, self).__init__()\n",
    "\n",
    "    def call(self, input):\n",
    "        return input[:,:,:,:3]\n"
   ]
  },
  {
   "cell_type": "code",
   "execution_count": 6,
   "metadata": {},
   "outputs": [],
   "source": [
    "def make_3_channels(image):\n",
    "    if image.ndim == 2: image = np.dstack((image, image, image))\n",
    "    image = image[:,:,:3]\n",
    "    return image\n",
    "\n",
    "def preprocess_color(color, albedo, epsilon=0.00316):\n",
    "    return color.astype(np.float32) / (albedo + epsilon)\n",
    "\n",
    "def postprocess_color(color, albedo, epsilon=0.00316):\n",
    "    return color * (albedo + epsilon)\n",
    "\n",
    "def preprocess_color_variance(variance, albedo, epsilon=0.00316):\n",
    "    return variance / (albedo + epsilon)**2\n",
    "\n",
    "def calculate_gradient(image):\n",
    "    y, x, c = image.shape\n",
    "    dx = image[:, 1:, :] - image[:, :x-1, :]\n",
    "    dy = image[1:, :, :] - image[:y-1, :, :]\n",
    "    dx = np.append(dx, np.zeros([y, 1, c]), axis=1)\n",
    "    dy = np.append(dy, np.zeros([1, x, c]), axis=0)\n",
    "    grad = np.dstack((dx, dy))\n",
    "    return grad\n",
    "\n",
    "def load_highspp(folder_path):\n",
    "    albedo = make_3_channels(imageio.imread(folder_path + \"/albedo.png\").astype(np.float32))\n",
    "    color = make_3_channels(imageio.imread(folder_path + \"/color.png\").astype(np.float32))\n",
    "    # color = preprocess_color(color, albedo)\n",
    "    return color\n",
    "\n",
    "def load_lowspp(folder_path):\n",
    "    print(\"loading \" + folder_path)\n",
    "\n",
    "    # albedo buffers\n",
    "    albedo = make_3_channels(imageio.imread(folder_path + \"/albedo.png\").astype(np.float32))\n",
    "    # albedo_variance = make_3_channels(imageio.imread(folder_path + \"/albedoVariance.png\").astype(np.float32))\n",
    "    # albedo_gradient = calculate_gradient(albedo)\n",
    "\n",
    "    # color buffers\n",
    "    color = make_3_channels(imageio.imread(folder_path + \"/color.png\").astype(np.float32))\n",
    "    # color = preprocess_color(color, albedo)\n",
    "    color_variance = make_3_channels(imageio.imread(folder_path + \"/colorVariance.png\").astype(np.float32))\n",
    "    # color_variance = preprocess_color_variance(color_variance, albedo)\n",
    "    color_gradient = calculate_gradient(color)\n",
    "\n",
    "    # depth buffers\n",
    "    depth = imageio.imread(folder_path + \"/depth.png\").astype(np.float32)\n",
    "    depth = depth.reshape((depth.shape[0], depth.shape[1], 1))\n",
    "    # depth_variance = imageio.imread(folder_path + \"/depthVariance.png\").astype(np.float32)\n",
    "    # depth_gradient = calculate_gradient(depth)\n",
    "\n",
    "    # normal buffers\n",
    "    normal = make_3_channels(imageio.imread(folder_path + \"/normal.png\").astype(np.float32))\n",
    "    # normal_variance = make_3_channels(imageio.imread(folder_path + \"/normalVariance.png\").astype(np.float32))\n",
    "    # normal_gradient = calculate_gradient(normal)\n",
    "\n",
    "    # combined = np.dstack((albedo, albedo_gradient, color, color_variance, color_gradient, depth, depth_variance, depth_gradient, normal, normal_variance, normal_gradient))\n",
    "    combined = np.dstack((color, color_variance, color_gradient, albedo, depth, normal))\n",
    "    return combined"
   ]
  },
  {
   "cell_type": "code",
   "execution_count": 7,
   "metadata": {},
   "outputs": [],
   "source": [
    "# split full res image into patch_size * patch_size images\n",
    "def get_patches(image):\n",
    "    x_patches = math.floor(image.shape[0]/patch_size)\n",
    "    y_patches = math.floor(image.shape[1]/patch_size)\n",
    "    patches = []\n",
    "    for x in range(x_patches):\n",
    "        for y in range(y_patches):\n",
    "            xstart = x * patch_size\n",
    "            xend = xstart + patch_size\n",
    "            ystart = y * patch_size\n",
    "            yend = ystart + patch_size\n",
    "            temp = image[xstart:xend, ystart:yend, :]\n",
    "            patches.append(temp)\n",
    "        patches.append(image[xstart:xend, image.shape[1]-patch_size:, :])\n",
    "    return patches"
   ]
  },
  {
   "cell_type": "code",
   "execution_count": 8,
   "metadata": {},
   "outputs": [],
   "source": [
    "def is_mostly_black(patch):\n",
    "    return np.mean(patch[:,:,:3].flatten(), axis=0) < 10.0\n",
    "\n",
    "# note to self: use this https://www.tensorflow.org/api_docs/python/tf/data/experimental/sample_from_datasets\n",
    "def load_x_y_patches():\n",
    "    x_patches = []\n",
    "    y_patches = []\n",
    "    orig = next(os.walk('./pngs'))[1]\n",
    "    folders = [x[0:x.rindex('16')] for x in orig if '16' in x]\n",
    "\n",
    "    for x in folders:\n",
    "        low_spp = load_lowspp('./pngs/' + x + '16')\n",
    "        high_spp = load_highspp('./pngs/' + x + '4096')\n",
    "        # residual = high_spp - low_spp[:, :, 12:15]\n",
    "        temp_x_patches = get_patches(low_spp)\n",
    "        temp_y_patches = get_patches(high_spp)\n",
    "\n",
    "        for i in range(len(temp_x_patches)):\n",
    "            if not is_mostly_black(temp_y_patches[0]):\n",
    "                x_patches.append(temp_x_patches[i])\n",
    "                residual = temp_y_patches[i] - temp_x_patches[i][:,:,:3]\n",
    "                # y_patches.append(residual)\n",
    "                y_patches.append(temp_y_patches[i])\n",
    "    \n",
    "    return x_patches, y_patches\n"
   ]
  },
  {
   "cell_type": "code",
   "execution_count": 9,
   "metadata": {},
   "outputs": [
    {
     "name": "stdout",
     "output_type": "stream",
     "text": [
      "loading ./pngs/bathroom16\n",
      "loading ./pngs/bathroom2-16\n",
      "loading ./pngs/bedroom-16\n",
      "loading ./pngs/car-16\n",
      "loading ./pngs/car2-16\n",
      "loading ./pngs/classroom-16\n",
      "loading ./pngs/coffee-16\n",
      "loading ./pngs/cornell-box-16\n",
      "loading ./pngs/curly-hair-16\n",
      "loading ./pngs/dining-room-16\n",
      "loading ./pngs/dragon-16\n",
      "loading ./pngs/furball-16\n",
      "loading ./pngs/house-16\n",
      "loading ./pngs/kitchen-16\n",
      "loading ./pngs/lamp-16\n",
      "loading ./pngs/living-room-16\n",
      "loading ./pngs/living-room-2-16\n",
      "loading ./pngs/living-room-3-16\n",
      "loading ./pngs/material-testball-16\n",
      "loading ./pngs/spaceship-16\n",
      "loading ./pngs/staircase-16\n",
      "loading ./pngs/staircase2-16\n",
      "loading ./pngs/teapot-16\n",
      "loading ./pngs/teapot-full-16\n",
      "loading ./pngs/veach-ajar-16\n",
      "loading ./pngs/veach-mis-16\n"
     ]
    }
   ],
   "source": [
    "x_patches, y_patches = load_x_y_patches()"
   ]
  },
  {
   "cell_type": "code",
   "execution_count": 10,
   "metadata": {},
   "outputs": [
    {
     "data": {
      "text/plain": [
       "(64, 64, 19)"
      ]
     },
     "execution_count": 10,
     "metadata": {},
     "output_type": "execute_result"
    }
   ],
   "source": [
    "x_patches[0].shape\n",
    "# for i in range(1400, 1405):\n",
    "#     residual = y_patches[i][:,:,:3]\n",
    "#     x_patch = x_patches[i][:,:,:3]\n",
    "#     total = x_patch + residual\n",
    "\n",
    "#     imshow(total.astype(np.uint8))"
   ]
  },
  {
   "cell_type": "code",
   "execution_count": 11,
   "metadata": {},
   "outputs": [
    {
     "name": "stdout",
     "output_type": "stream",
     "text": [
      "Model: \"model\"\n",
      "__________________________________________________________________________________________________\n",
      "Layer (type)                    Output Shape         Param #     Connected to                     \n",
      "==================================================================================================\n",
      "input_1 (InputLayer)            [(None, 64, 64, 19)] 0                                            \n",
      "__________________________________________________________________________________________________\n",
      "zero_padding2d (ZeroPadding2D)  (None, 68, 68, 19)   0           input_1[0][0]                    \n",
      "__________________________________________________________________________________________________\n",
      "conv2d (Conv2D)                 (None, 64, 64, 100)  47600       zero_padding2d[0][0]             \n",
      "__________________________________________________________________________________________________\n",
      "zero_padding2d_1 (ZeroPadding2D (None, 68, 68, 100)  0           conv2d[0][0]                     \n",
      "__________________________________________________________________________________________________\n",
      "conv2d_1 (Conv2D)               (None, 64, 64, 100)  250100      zero_padding2d_1[0][0]           \n",
      "__________________________________________________________________________________________________\n",
      "zero_padding2d_2 (ZeroPadding2D (None, 68, 68, 100)  0           conv2d_1[0][0]                   \n",
      "__________________________________________________________________________________________________\n",
      "conv2d_2 (Conv2D)               (None, 64, 64, 100)  250100      zero_padding2d_2[0][0]           \n",
      "__________________________________________________________________________________________________\n",
      "zero_padding2d_3 (ZeroPadding2D (None, 68, 68, 100)  0           conv2d_2[0][0]                   \n",
      "__________________________________________________________________________________________________\n",
      "conv2d_3 (Conv2D)               (None, 64, 64, 100)  250100      zero_padding2d_3[0][0]           \n",
      "__________________________________________________________________________________________________\n",
      "zero_padding2d_4 (ZeroPadding2D (None, 68, 68, 100)  0           conv2d_3[0][0]                   \n",
      "__________________________________________________________________________________________________\n",
      "conv2d_4 (Conv2D)               (None, 64, 64, 100)  250100      zero_padding2d_4[0][0]           \n",
      "__________________________________________________________________________________________________\n",
      "zero_padding2d_5 (ZeroPadding2D (None, 68, 68, 100)  0           conv2d_4[0][0]                   \n",
      "__________________________________________________________________________________________________\n",
      "conv2d_5 (Conv2D)               (None, 64, 64, 100)  250100      zero_padding2d_5[0][0]           \n",
      "__________________________________________________________________________________________________\n",
      "zero_padding2d_6 (ZeroPadding2D (None, 68, 68, 100)  0           conv2d_5[0][0]                   \n",
      "__________________________________________________________________________________________________\n",
      "conv2d_6 (Conv2D)               (None, 64, 64, 100)  250100      zero_padding2d_6[0][0]           \n",
      "__________________________________________________________________________________________________\n",
      "zero_padding2d_7 (ZeroPadding2D (None, 68, 68, 100)  0           conv2d_6[0][0]                   \n",
      "__________________________________________________________________________________________________\n",
      "channel_cropping_layer (Channel (None, 64, 64, 3)    0           input_1[0][0]                    \n",
      "__________________________________________________________________________________________________\n",
      "conv2d_7 (Conv2D)               (None, 64, 64, 361)  902861      zero_padding2d_7[0][0]           \n",
      "__________________________________________________________________________________________________\n",
      "concatenate (Concatenate)       (None, 64, 64, 364)  0           channel_cropping_layer[0][0]     \n",
      "                                                                 conv2d_7[0][0]                   \n",
      "__________________________________________________________________________________________________\n",
      "kernel_adding_layer (KernelAddi (None, 64, 64, 3)    0           concatenate[0][0]                \n",
      "==================================================================================================\n",
      "Total params: 2,451,061\n",
      "Trainable params: 2,451,061\n",
      "Non-trainable params: 0\n",
      "__________________________________________________________________________________________________\n"
     ]
    }
   ],
   "source": [
    "def make_nn(input_channels):\n",
    "    #basic model parameters\n",
    "    L = 9\n",
    "    kernel_size = 5\n",
    "    hidden_channels = 100\n",
    "    in_between_layers = L - 2\n",
    "\n",
    "    # add layers\n",
    "    noisy_input = keras.Input(shape=(patch_size, patch_size, input_channels))\n",
    "    cropped_noisy_input = ChannelCroppingLayer()(noisy_input)\n",
    "    x = noisy_input\n",
    "    for i in range(in_between_layers):\n",
    "        x = layers.ZeroPadding2D(padding=(2, 2))(x)\n",
    "        x = layers.Conv2D(hidden_channels, kernel_size=kernel_size, kernel_initializer=\"glorot_uniform\", strides=1, activation=\"relu\")(x)\n",
    "\n",
    "    x = layers.ZeroPadding2D(padding=(2, 2))(x)\n",
    "    outputs = output_kernel_size**2 if mode == \"kpcn\" else 3\n",
    "    x = layers.Conv2D(outputs, kernel_size=kernel_size, kernel_initializer=\"glorot_uniform\", strides=1, activation=\"softmax\")(x)\n",
    "    x = layers.concatenate([cropped_noisy_input, x])\n",
    "    \n",
    "    x = KernelAddingLayer()(x)\n",
    "    # compile model\n",
    "    model = keras.Model(inputs=[noisy_input], outputs=[x])\n",
    "    opt = keras.optimizers.Adam(learning_rate=10e-5)\n",
    "    model.compile(loss=\"mean_absolute_error\", optimizer=opt, metrics=['mean_absolute_error'])\n",
    "\n",
    "    return model\n",
    "\n",
    "model = make_nn(x_patches[0].shape[2])\n",
    "model.summary()\n"
   ]
  },
  {
   "cell_type": "code",
   "execution_count": 12,
   "metadata": {},
   "outputs": [],
   "source": [
    "def create_tf_dataset(x_patches, y_patches):\n",
    "    validate_amount = math.floor(len(x_patches) * percent_used_for_validation)\n",
    "    rec_count = len(x_patches)\n",
    "    ds = tf.data.Dataset.from_tensor_slices((x_patches, y_patches))\n",
    "    ds = ds.shuffle(buffer_size=400, reshuffle_each_iteration=True)\n",
    "    train = ds.skip(validate_amount).batch(mini_batch_size)\n",
    "    validate = ds.take(validate_amount).batch(mini_batch_size)\n",
    "    return train, validate"
   ]
  },
  {
   "cell_type": "code",
   "execution_count": 13,
   "metadata": {},
   "outputs": [],
   "source": [
    "# train, validate = prepare_training_data()\n",
    "train, validate = create_tf_dataset(x_patches, y_patches)"
   ]
  },
  {
   "cell_type": "code",
   "execution_count": 14,
   "metadata": {},
   "outputs": [],
   "source": [
    "# latest = tf.train.latest_checkpoint(checkpoint_dir)\n",
    "# model.load_weights(latest)\n",
    "# model"
   ]
  },
  {
   "cell_type": "code",
   "execution_count": 15,
   "metadata": {},
   "outputs": [
    {
     "data": {
      "image/png": "[encoded data removed]",
      "text/plain": [
       "<PIL.Image.Image image mode=RGB size=64x64 at 0x21F18389970>"
      ]
     },
     "metadata": {},
     "output_type": "display_data"
    },
    {
     "data": {
      "image/png": "[encoded data removed]",
      "text/plain": [
       "<PIL.Image.Image image mode=RGB size=64x64 at 0x21F18385E50>"
      ]
     },
     "metadata": {},
     "output_type": "display_data"
    },
    {
     "data": {
      "image/png": "[encoded data removed]",
      "text/plain": [
       "<PIL.Image.Image image mode=RGB size=64x64 at 0x21F19D5BD00>"
      ]
     },
     "metadata": {},
     "output_type": "display_data"
    }
   ],
   "source": [
    "class DisplayImageCallback(tf.keras.callbacks.Callback):\n",
    "    def __init__(self):\n",
    "        super(DisplayImageCallback, self).__init__()\n",
    "    \n",
    "    def on_epoch_end(self, epoch, logs=None):\n",
    "        if epoch % 1 != 0:\n",
    "            return\n",
    "\n",
    "        # if predicting final output\n",
    "        pn = 405\n",
    "        xpatch = x_patches[pn]\n",
    "        xpatchcolor = xpatch[:,:,:3]\n",
    "        predicted = model.predict(xpatch.reshape((1, xpatch.shape[0], xpatch.shape[1], xpatch.shape[2])))[0]\n",
    "        gt = y_patches[pn]\n",
    "\n",
    "        imshow(xpatchcolor).save(checkpoint_dir + '/xpatch.png')\n",
    "        imshow(gt).save(checkpoint_dir + '/gt.png')\n",
    "        imshow(predicted).save(checkpoint_dir + '/prediction.png')\n",
    "\n",
    "pn = 405\n",
    "xpatch = x_patches[pn]\n",
    "xpatchcolor = xpatch[:,:,:3]\n",
    "predicted = model.predict(xpatch.reshape((1, xpatch.shape[0], xpatch.shape[1], xpatch.shape[2])))[0]\n",
    "gt = y_patches[pn]\n",
    "\n",
    "imshow(xpatchcolor).save(checkpoint_dir + '/xpatch.png')\n",
    "imshow(gt).save(checkpoint_dir + '/gt.png')\n",
    "imshow(predicted).save(checkpoint_dir + '/prediction.png')\n"
   ]
  },
  {
   "cell_type": "code",
   "execution_count": null,
   "metadata": {},
   "outputs": [
    {
     "name": "stdout",
     "output_type": "stream",
     "text": [
      "Fit model on training data\n",
      "Epoch 1/10000\n"
     ]
    }
   ],
   "source": [
    "print(\"Fit model on training data\")\n",
    "image_cb = DisplayImageCallback()\n",
    "history_cb = tf.keras.callbacks.CSVLogger('./training_2/log.csv', separator=\",\", append=True)\n",
    "cp_callback = tf.keras.callbacks.ModelCheckpoint(filepath=checkpoint_path,\n",
    "                                                 save_weights_only=True,\n",
    "                                                 verbose=1)\n",
    "history = model.fit(\n",
    "    train,\n",
    "    validation_data=validate,\n",
    "    epochs=10000,\n",
    "    callbacks=[cp_callback, history_cb, image_cb]\n",
    ")"
   ]
  },
  {
   "cell_type": "code",
   "execution_count": null,
   "metadata": {},
   "outputs": [],
   "source": [
    "# print(model.layers[1].get_weights()[0])\n",
    "# model.predict(xpatch)"
   ]
  },
  {
   "cell_type": "code",
   "execution_count": null,
   "metadata": {},
   "outputs": [],
   "source": [
    "newpatch = x_patches[1350] #np.reshape(x_patches[1350], (1, 64, 64, 40))\n",
    "newpatch = np.stack((newpatch, newpatch, newpatch, newpatch, newpatch), axis=0)\n",
    "newpatch.shape"
   ]
  },
  {
   "cell_type": "code",
   "execution_count": null,
   "metadata": {},
   "outputs": [],
   "source": [
    "pn = 405\n",
    "xpatch = x_patches[pn]\n",
    "xpatch = np.stack((xpatch, xpatch, xpatch, xpatch, xpatch), axis=0)\n",
    "prediction = model.predict(xpatch)\n",
    "prediction\n",
    "xpatch"
   ]
  },
  {
   "cell_type": "code",
   "execution_count": null,
   "metadata": {},
   "outputs": [],
   "source": [
    "# imshow((prediction[0] * 255.0).astype(np.uint8))\n",
    "prediction"
   ]
  },
  {
   "cell_type": "code",
   "execution_count": null,
   "metadata": {},
   "outputs": [],
   "source": []
  }
 ],
 "metadata": {
  "kernelspec": {
   "display_name": "Python 3",
   "language": "python",
   "name": "python3"
  },
  "language_info": {
   "codemirror_mode": {
    "name": "ipython",
    "version": 3
   },
   "file_extension": ".py",
   "mimetype": "text/x-python",
   "name": "python",
   "nbconvert_exporter": "python",
   "pygments_lexer": "ipython3",
   "version": "3.8.8"
  },
  "metadata": {
   "interpreter": {
    "hash": "2cd2abeaea65c445b1f865368dbbfc01b247d4af0d8b7b9288cea8582e68bfb5"
   }
  }
 },
 "nbformat": 4,
 "nbformat_minor": 4
}
